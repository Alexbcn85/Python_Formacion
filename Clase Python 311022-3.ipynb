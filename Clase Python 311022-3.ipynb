{
  "metadata": {
    "language_info": {
      "codemirror_mode": {
        "name": "python",
        "version": 3
      },
      "file_extension": ".py",
      "mimetype": "text/x-python",
      "name": "python",
      "nbconvert_exporter": "python",
      "pygments_lexer": "ipython3",
      "version": "3.8"
    },
    "kernelspec": {
      "name": "python",
      "display_name": "Python (Pyodide)",
      "language": "python"
    },
    "toc-showcode": false
  },
  "nbformat_minor": 4,
  "nbformat": 4,
  "cells": [
    {
      "cell_type": "code",
      "source": "# La almohadilla sirve para comentar, no se ejecutan como codigo.\n# Rem, comentario.\n# Una Variable. es donde se almacenan datos en la Ram\n# Como asignar un valor a una variable con el (=)\nX=5\nprint(X) # Con print me imprime el resultado, el output",
      "metadata": {
        "trusted": true
      },
      "execution_count": 1,
      "outputs": [
        {
          "name": "stdout",
          "text": "5\n",
          "output_type": "stream"
        }
      ]
    },
    {
      "cell_type": "code",
      "source": "print(X+2)",
      "metadata": {
        "trusted": true
      },
      "execution_count": 4,
      "outputs": [
        {
          "ename": "<class 'NameError'>",
          "evalue": "name 'X' is not defined",
          "traceback": [
            "\u001b[0;31m---------------------------------------------------------------------------\u001b[0m",
            "\u001b[0;31mNameError\u001b[0m                                 Traceback (most recent call last)",
            "Cell \u001b[0;32mIn [4], line 1\u001b[0m\n\u001b[0;32m----> 1\u001b[0m \u001b[38;5;28mprint\u001b[39m(\u001b[43mX\u001b[49m\u001b[38;5;241m+\u001b[39m\u001b[38;5;241m2\u001b[39m)\n",
            "\u001b[0;31mNameError\u001b[0m: name 'X' is not defined"
          ],
          "output_type": "error"
        }
      ]
    },
    {
      "cell_type": "code",
      "source": "x=4\nprint (x+X)\n",
      "metadata": {
        "trusted": true
      },
      "execution_count": 3,
      "outputs": [
        {
          "name": "stdout",
          "text": "9\n",
          "output_type": "stream"
        }
      ]
    },
    {
      "cell_type": "code",
      "source": "# puedo asignar una cadena alfanumerica (texto), mediante comillas dobles o simples\na=\"1\"\n\nprint (x+a)\n\n",
      "metadata": {
        "trusted": true
      },
      "execution_count": 4,
      "outputs": [
        {
          "ename": "<class 'TypeError'>",
          "evalue": "unsupported operand type(s) for +: 'int' and 'str'",
          "traceback": [
            "\u001b[0;31m---------------------------------------------------------------------------\u001b[0m",
            "\u001b[0;31mTypeError\u001b[0m                                 Traceback (most recent call last)",
            "Cell \u001b[0;32mIn [4], line 4\u001b[0m\n\u001b[1;32m      1\u001b[0m \u001b[38;5;66;03m# puedo asignar una cadena alfanumerica (texto), mediante comillas dobles o simples\u001b[39;00m\n\u001b[1;32m      2\u001b[0m a\u001b[38;5;241m=\u001b[39m\u001b[38;5;124m\"\u001b[39m\u001b[38;5;124m1\u001b[39m\u001b[38;5;124m\"\u001b[39m\n\u001b[0;32m----> 4\u001b[0m \u001b[38;5;28mprint\u001b[39m (\u001b[43mx\u001b[49m\u001b[38;5;241;43m+\u001b[39;49m\u001b[43ma\u001b[49m)\n",
            "\u001b[0;31mTypeError\u001b[0m: unsupported operand type(s) for +: 'int' and 'str'"
          ],
          "output_type": "error"
        }
      ]
    },
    {
      "cell_type": "code",
      "source": "#Como convertir un STR a un numero con la funcion Int o float\nprint(X+int(a))",
      "metadata": {
        "trusted": true
      },
      "execution_count": 5,
      "outputs": [
        {
          "name": "stdout",
          "text": "6\n",
          "output_type": "stream"
        }
      ]
    },
    {
      "cell_type": "code",
      "source": "#int = numeros enteros, float decimales\n#la funcion str() convierto numeros en texto\nprint(X)",
      "metadata": {
        "trusted": true
      },
      "execution_count": 6,
      "outputs": [
        {
          "name": "stdout",
          "text": "5\n",
          "output_type": "stream"
        }
      ]
    },
    {
      "cell_type": "code",
      "source": "#Sobretodo para la funcion print podemos contatenar texto con el +\nprint(\"El resultado es \"+str(X))",
      "metadata": {
        "trusted": true
      },
      "execution_count": 7,
      "outputs": [
        {
          "name": "stdout",
          "text": "El resultado es 5\n",
          "output_type": "stream"
        }
      ]
    },
    {
      "cell_type": "code",
      "source": "#En programacion es importante el concepto contador.\nX = X+1\nprint(X)",
      "metadata": {
        "trusted": true
      },
      "execution_count": 8,
      "outputs": [
        {
          "name": "stdout",
          "text": "6\n",
          "output_type": "stream"
        }
      ]
    },
    {
      "cell_type": "code",
      "source": "X+=1\nprint(X)",
      "metadata": {
        "trusted": true
      },
      "execution_count": 9,
      "outputs": [
        {
          "name": "stdout",
          "text": "7\n",
          "output_type": "stream"
        }
      ]
    },
    {
      "cell_type": "code",
      "source": "#El caracter * en e texto sirve para repeticion\ny = \"hola\"\nprint(y*3)",
      "metadata": {
        "trusted": true
      },
      "execution_count": 10,
      "outputs": [
        {
          "name": "stdout",
          "text": "holaholahola\n",
          "output_type": "stream"
        }
      ]
    },
    {
      "cell_type": "code",
      "source": "#Concatenar strings con el operador +, si es numero primero el str()\nq=\"Hoy es \"\nw=\"Hallowen\"\nprint(q+w)",
      "metadata": {
        "trusted": true
      },
      "execution_count": 11,
      "outputs": [
        {
          "name": "stdout",
          "text": "Hoy es Hallowen\n",
          "output_type": "stream"
        }
      ]
    },
    {
      "cell_type": "code",
      "source": "#Las listas en Python son variables que almacenan arrays o matrices de datos\nLista = [\"Pan\",\"Leche\",\"Carne\",\"Pescado\",15]\nprint(x)\nprint(Lista)",
      "metadata": {
        "trusted": true
      },
      "execution_count": 13,
      "outputs": [
        {
          "name": "stdout",
          "text": "4\n['Pan', 'Leche', 'Carne', 'Pescado', 15]\n",
          "output_type": "stream"
        }
      ]
    },
    {
      "cell_type": "code",
      "source": "#Como acceder a un objeto de la Lista, con el indice y empezamos por la izquierda por el O\nLista[0]",
      "metadata": {
        "trusted": true
      },
      "execution_count": 14,
      "outputs": [
        {
          "execution_count": 14,
          "output_type": "execute_result",
          "data": {
            "text/plain": "'Pan'"
          },
          "metadata": {}
        }
      ]
    },
    {
      "cell_type": "code",
      "source": "Lista[2]",
      "metadata": {
        "trusted": true
      },
      "execution_count": 15,
      "outputs": [
        {
          "execution_count": 15,
          "output_type": "execute_result",
          "data": {
            "text/plain": "'Carne'"
          },
          "metadata": {}
        }
      ]
    },
    {
      "cell_type": "code",
      "source": "#Practica 1\nSemana=[\"Lunes\",\"Martes\",\"Miercoles\",\"Jueves\",\"Viernes\",\"Sabado\",\"Domingo\"]\nTexto= \"El día de la semana es:\"\nprint(Texto,Semana[2])# La coma actua como espacio\nprint(Texto+Semana[2])\n",
      "metadata": {
        "trusted": true
      },
      "execution_count": 29,
      "outputs": [
        {
          "name": "stdout",
          "text": "El día de la semana es: Miercoles\nEl día de la semana es:Miercoles\n",
          "output_type": "stream"
        }
      ]
    },
    {
      "cell_type": "code",
      "source": "#Practica 2\nimpar=[\"1\",\"3\",\"5\",\"7\",\"9\",\"11\"]\ntexto1=\"El cuarto numero impar es: \"\nprint(texto1+impar[3])\n",
      "metadata": {
        "trusted": true
      },
      "execution_count": 37,
      "outputs": [
        {
          "name": "stdout",
          "text": "El cuarto numero impar es: 7\n",
          "output_type": "stream"
        }
      ]
    },
    {
      "cell_type": "code",
      "source": "#Practica 2 variante\nimpar=[1,3,5,7,9,11]\ntexto1=\"El cuarto numero impar es: \"\nprint(texto1+str(impar[3]))",
      "metadata": {
        "trusted": true
      },
      "execution_count": 77,
      "outputs": [
        {
          "name": "stdout",
          "text": "El cuarto numero impar es: 7\n",
          "output_type": "stream"
        }
      ]
    },
    {
      "cell_type": "code",
      "source": "#Para saber cuantos elementos tiene una lista len(Semana\nlen(Semana)",
      "metadata": {
        "trusted": true
      },
      "execution_count": 39,
      "outputs": [
        {
          "execution_count": 39,
          "output_type": "execute_result",
          "data": {
            "text/plain": "7"
          },
          "metadata": {}
        }
      ]
    },
    {
      "cell_type": "code",
      "source": "len(impar)",
      "metadata": {
        "trusted": true
      },
      "execution_count": 40,
      "outputs": [
        {
          "execution_count": 40,
          "output_type": "execute_result",
          "data": {
            "text/plain": "6"
          },
          "metadata": {}
        }
      ]
    },
    {
      "cell_type": "code",
      "source": "#Como añadir un elemento al final de una lista, con la funcion append()\nimpar.append(str(13))\nimpar.append(13)\nimpar",
      "metadata": {
        "trusted": true
      },
      "execution_count": 46,
      "outputs": [
        {
          "execution_count": 46,
          "output_type": "execute_result",
          "data": {
            "text/plain": "[1, 3, 5, 7, 9, 11, 13, 13, 13, '13', '13', 182, '13', 13]"
          },
          "metadata": {}
        }
      ]
    },
    {
      "cell_type": "code",
      "source": "#Como contar cuantos valores son iguales en una lista\n#Con la funcion count\nimpar.count(13)",
      "metadata": {
        "trusted": true
      },
      "execution_count": 47,
      "outputs": [
        {
          "execution_count": 47,
          "output_type": "execute_result",
          "data": {
            "text/plain": "4"
          },
          "metadata": {}
        }
      ]
    },
    {
      "cell_type": "code",
      "source": "#INSERTAR un valor a una lista con la funcion instert\nimpar.insert(3, 21)\nimpar",
      "metadata": {
        "trusted": true
      },
      "execution_count": 51,
      "outputs": [
        {
          "execution_count": 51,
          "output_type": "execute_result",
          "data": {
            "text/plain": "[1, 3, 5, 21, 21, 21, 21, 7, 9, 11, 13, 13, 13, '13', '13', 182, '13', 13]"
          },
          "metadata": {}
        }
      ]
    },
    {
      "cell_type": "code",
      "source": "#Practica 3\nmeses=[\"Enero\",\"Febrero\",\"Abril\",\"Junio\",\"Julio\",\"Agosto\",\"Septiembre\"]  ",
      "metadata": {
        "trusted": true
      },
      "execution_count": 66,
      "outputs": []
    },
    {
      "cell_type": "code",
      "source": "meses.append(\"Octubre\")\nmeses.append(\"Noviembre\")\nmeses.append(\"Diciembre\")\nmeses.insert(2,\"Marzo\")\nmeses.insert(4,\"Mayo\")\nmeses.append(\"Marzo\")\nmeses.append(\"Abril\")\nprint(\"El numero de elementos de la lista es \"+str(len(meses)))\nprint(\"E mes de marzo esta \"+str(meses.count(\"Marzo\"))+ (str(\" repetido\")))\nprint(meses)\n\n             ",
      "metadata": {
        "trusted": true
      },
      "execution_count": 75,
      "outputs": [
        {
          "name": "stdout",
          "text": "El numero de elementos de la lista es 35\nE mes de marzo esta 8 repetido\n['Enero', 'Febrero', 'Marzo', 'Marzo', 'Mayo', 'Marzo', 'Mayo', 'Marzo', 'Mayo', 'Abril', 'Mayo', 'Junio', 'Julio', 'Agosto', 'Septiembre', 'Octubre', 'Noviembre', 'Diciembre', 'Marzo', 'Abril', 'Octubre', 'Noviembre', 'Diciembre', 'Marzo', 'Abril', 'Octubre', 'Noviembre', 'Diciembre', 'Marzo', 'Abril', 'Octubre', 'Noviembre', 'Diciembre', 'Marzo', 'Abril']\n",
          "output_type": "stream"
        }
      ]
    },
    {
      "cell_type": "code",
      "source": "#Como eliminar un elemento de una lista, con la funcion remove(), elimina el primero que encuentra desde la izquierda\nmeses.remove(\"Marzo\")\nmeses",
      "metadata": {
        "trusted": true
      },
      "execution_count": 63,
      "outputs": [
        {
          "execution_count": 63,
          "output_type": "execute_result",
          "data": {
            "text/plain": "['Enero',\n 'Febrero',\n 'Abril',\n 'Mayo',\n 'Junio',\n 'Julio',\n 'Agosto',\n 'Septiembre',\n 'Octubre',\n 'Noviembre',\n 'Diciembre',\n 'Marzo',\n 'Abril']"
          },
          "metadata": {}
        }
      ]
    },
    {
      "cell_type": "code",
      "source": "#Funciones de resumen, max el numero mas grande\nmax(impar)",
      "metadata": {
        "trusted": true
      },
      "execution_count": 78,
      "outputs": [
        {
          "execution_count": 78,
          "output_type": "execute_result",
          "data": {
            "text/plain": "11"
          },
          "metadata": {}
        }
      ]
    },
    {
      "cell_type": "code",
      "source": "#El numero mas pequeño con min \nmin(impar)\n",
      "metadata": {
        "trusted": true
      },
      "execution_count": 79,
      "outputs": [
        {
          "execution_count": 79,
          "output_type": "execute_result",
          "data": {
            "text/plain": "1"
          },
          "metadata": {}
        }
      ]
    },
    {
      "cell_type": "code",
      "source": "#la suma con sum()\nsum(impar)\n",
      "metadata": {
        "trusted": true
      },
      "execution_count": 80,
      "outputs": [
        {
          "execution_count": 80,
          "output_type": "execute_result",
          "data": {
            "text/plain": "36"
          },
          "metadata": {}
        }
      ]
    },
    {
      "cell_type": "code",
      "source": "#la funcion range(x) nos da una lista con el numero de elementos que le pidamos \nrange(0,6)\nprint(range(6))",
      "metadata": {
        "trusted": true
      },
      "execution_count": 82,
      "outputs": [
        {
          "name": "stdout",
          "text": "range(0, 6)\n",
          "output_type": "stream"
        }
      ]
    },
    {
      "cell_type": "code",
      "source": "list(range(6))",
      "metadata": {
        "trusted": true
      },
      "execution_count": 83,
      "outputs": [
        {
          "execution_count": 83,
          "output_type": "execute_result",
          "data": {
            "text/plain": "[0, 1, 2, 3, 4, 5]"
          },
          "metadata": {}
        }
      ]
    },
    {
      "cell_type": "code",
      "source": "#funcion list para crear una lista\nlist(range(12))",
      "metadata": {
        "trusted": true
      },
      "execution_count": 84,
      "outputs": [
        {
          "execution_count": 84,
          "output_type": "execute_result",
          "data": {
            "text/plain": "[0, 1, 2, 3, 4, 5, 6, 7, 8, 9, 10, 11]"
          },
          "metadata": {}
        }
      ]
    },
    {
      "cell_type": "code",
      "source": "#imput, sirve para pedir a un usuario, el programa queda detenido hasta que el usuario haga intro\nrespuesta = input()\n",
      "metadata": {
        "trusted": true
      },
      "execution_count": 93,
      "outputs": [
        {
          "name": "stdout",
          "text": "tu nombre es: <Future pending>\n",
          "output_type": "stream"
        },
        {
          "output_type": "stream",
          "name": "stdin",
          "text": " Alex\n"
        }
      ]
    },
    {
      "cell_type": "code",
      "source": "print(\"tu nombre es: \"+str(respuesta))",
      "metadata": {
        "trusted": true
      },
      "execution_count": 94,
      "outputs": [
        {
          "name": "stdout",
          "text": "tu nombre es: <Future finished result='Alex'>\n",
          "output_type": "stream"
        }
      ]
    },
    {
      "cell_type": "code",
      "source": "#Funciones de texto para modificar un valor dentro de una cadena en str\nparrafo=\"Hoy es Domingo\"\nresultado = parrafo.replace(\"Hoy\",\"Ayer\")\nresultado = resultado.replace(\"es\",\"era\")\nprint(resultado)\n",
      "metadata": {
        "trusted": true
      },
      "execution_count": 96,
      "outputs": [
        {
          "name": "stdout",
          "text": "Ayer era Domingo\n",
          "output_type": "stream"
        }
      ]
    },
    {
      "cell_type": "code",
      "source": "#Convertir todo a mayusculas con la funcion upper\n\nresultado.upper()",
      "metadata": {
        "trusted": true
      },
      "execution_count": 98,
      "outputs": [
        {
          "execution_count": 98,
          "output_type": "execute_result",
          "data": {
            "text/plain": "'AYER ERA DOMINGO'"
          },
          "metadata": {}
        }
      ]
    },
    {
      "cell_type": "code",
      "source": "#En minusculas con lower\nresultado.lower()\n",
      "metadata": {
        "trusted": true
      },
      "execution_count": 99,
      "outputs": [
        {
          "execution_count": 99,
          "output_type": "execute_result",
          "data": {
            "text/plain": "'ayer era domingo'"
          },
          "metadata": {}
        }
      ]
    },
    {
      "cell_type": "code",
      "source": "#Como crear nuestras propias funciones personalizadas.\n\n#Primero la palabra clave def, segundo los parametros de la funcion(), tercero(:)\n#cuato el codigo de la funcion, necesita identacion y necesita codigo de retorno\ndef suma10(x):\n    print(x+10)\n    \n",
      "metadata": {
        "trusted": true
      },
      "execution_count": 100,
      "outputs": []
    },
    {
      "cell_type": "code",
      "source": "suma10(30)",
      "metadata": {
        "trusted": true
      },
      "execution_count": 101,
      "outputs": [
        {
          "name": "stdout",
          "text": "40\n",
          "output_type": "stream"
        }
      ]
    },
    {
      "cell_type": "code",
      "source": "suma10(25)",
      "metadata": {
        "trusted": true
      },
      "execution_count": 102,
      "outputs": [
        {
          "name": "stdout",
          "text": "35\n",
          "output_type": "stream"
        }
      ]
    },
    {
      "cell_type": "code",
      "source": "#Puedo pasar valores separados por comas\ndef suma2valores(x,y):\n    print(x+y)",
      "metadata": {
        "trusted": true
      },
      "execution_count": 104,
      "outputs": []
    },
    {
      "cell_type": "code",
      "source": "suma2valores(5,8)",
      "metadata": {
        "trusted": true
      },
      "execution_count": 105,
      "outputs": [
        {
          "name": "stdout",
          "text": "13\n",
          "output_type": "stream"
        }
      ]
    },
    {
      "cell_type": "code",
      "source": "#Para ver las variables y funciones en el kernel creadas\n%whos",
      "metadata": {
        "trusted": true
      },
      "execution_count": 18,
      "outputs": [
        {
          "name": "stdout",
          "text": "Variable      Type        Data/Info\n-----------------------------------\ncalculoedad   function    <function calculoedad at 0x3269f60>\n",
          "output_type": "stream"
        }
      ]
    },
    {
      "cell_type": "code",
      "source": "#Practica 4 \ndef calculoarea(base,altura):\n    \n    area=round((base*altura)/2,4)\n    print(\"El area del triangulo es \"+str(area))\n    \n",
      "metadata": {
        "trusted": true
      },
      "execution_count": 133,
      "outputs": []
    },
    {
      "cell_type": "code",
      "source": "calculoarea(4,5)\n",
      "metadata": {
        "trusted": true
      },
      "execution_count": 138,
      "outputs": [
        {
          "name": "stdout",
          "text": "El area del triangulo es 10.0\n",
          "output_type": "stream"
        }
      ]
    },
    {
      "cell_type": "code",
      "source": "#con la funcion round, le dire el numero de decimales que quiero\n#round(valor, num de decimales)",
      "metadata": {},
      "execution_count": null,
      "outputs": []
    },
    {
      "cell_type": "code",
      "source": "#El condicional con IF\nedad = 18\n\nif edad <18:\n    print(\"Menor de edad\")\nelse:\n    print(\"Mayor de edad\")",
      "metadata": {
        "trusted": true
      },
      "execution_count": 149,
      "outputs": [
        {
          "name": "stdout",
          "text": "introduce la edad \n",
          "output_type": "stream"
        },
        {
          "ename": "<class 'TypeError'>",
          "evalue": "'<' not supported between instances of 'tuple' and 'int'",
          "traceback": [
            "\u001b[0;31m---------------------------------------------------------------------------\u001b[0m",
            "\u001b[0;31mTypeError\u001b[0m                                 Traceback (most recent call last)",
            "Cell \u001b[0;32mIn [160], line 4\u001b[0m\n\u001b[1;32m      1\u001b[0m \u001b[38;5;66;03m#El condicional con IF\u001b[39;00m\n\u001b[1;32m      2\u001b[0m edad \u001b[38;5;241m=\u001b[39m (\u001b[38;5;28mprint\u001b[39m(\u001b[38;5;124m\"\u001b[39m\u001b[38;5;124mintroduce la edad \u001b[39m\u001b[38;5;124m\"\u001b[39m),\u001b[38;5;28minput\u001b[39m())\n\u001b[0;32m----> 4\u001b[0m \u001b[38;5;28;01mif\u001b[39;00m \u001b[43medad\u001b[49m\u001b[43m \u001b[49m\u001b[38;5;241;43m<\u001b[39;49m\u001b[38;5;241;43m18\u001b[39;49m:\n\u001b[1;32m      5\u001b[0m     \u001b[38;5;28mprint\u001b[39m(\u001b[38;5;124m\"\u001b[39m\u001b[38;5;124mMenor de edad\u001b[39m\u001b[38;5;124m\"\u001b[39m)\n\u001b[1;32m      6\u001b[0m \u001b[38;5;28;01melse\u001b[39;00m:\n",
            "\u001b[0;31mTypeError\u001b[0m: '<' not supported between instances of 'tuple' and 'int'"
          ],
          "output_type": "error"
        },
        {
          "output_type": "stream",
          "name": "stdin",
          "text": " 30\n"
        }
      ]
    },
    {
      "cell_type": "code",
      "source": "numero =31\nif numero<20:\n    print(\"entre 0 y 20\")\nelif numero<40:\n    print(\"entre 20 y 40\")\nelse:\n    print(\"mayor de 40\")\n    ",
      "metadata": {
        "trusted": true
      },
      "execution_count": 153,
      "outputs": [
        {
          "name": "stdout",
          "text": "entre 20 y 40\n",
          "output_type": "stream"
        }
      ]
    },
    {
      "cell_type": "code",
      "source": "edad = (print(\"introduce la edad \"),input())",
      "metadata": {
        "trusted": true
      },
      "execution_count": 161,
      "outputs": [
        {
          "name": "stdout",
          "text": "introduce la edad \n",
          "output_type": "stream"
        },
        {
          "output_type": "stream",
          "name": "stdin",
          "text": " 30\n"
        }
      ]
    },
    {
      "cell_type": "code",
      "source": "#Practica 5\ndef calculoedad (nombre,edad):\n    \n    if edad<0:\n        print(\"Edad incorrecta\")\n    elif edad>=0 and edad<=9:\n            decada=0\n            print((\"La persona \")+str(nombre)+(\" tiene \")+str(edad)+(\" esta en la decada de los \")+str(decada))\n    elif edad>=10 and edad<=19: \n            decada=10 \n            print((\"La persona \")+str(nombre)+(\" tiene \")+str(edad)+(\" esta en la decada de los \")+str(decada))\n    elif edad>=20 and edad<=29:\n            decada=20\n            print((\"La persona \")+str(nombre)+(\" tiene \")+str(edad)+(\" esta en la decada de los \")+str(decada))\n    elif edad>=30 and edad<=39:\n            decada=30\n            print((\"La persona \")+str(nombre)+(\" tiene \")+str(edad)+(\" esta en la decada de los \")+str(decada))\n    elif edad>=40 and edad<=49:\n            decada=40\n            print((\"La persona \")+str(nombre)+(\" tiene \")+str(edad)+(\" esta en la decada de los \")+str(decada))\n    elif edad>=50 and edad<=59:\n            decada=50\n            print((\"La persona \")+str(nombre)+(\" tiene \")+str(edad)+(\" esta en la decada de los \")+str(decada))\n    elif edad>=60 and edad<=69:\n            decada=60\n            print((\"La persona \")+str(nombre)+(\" tiene \")+str(edad)+(\" esta en la decada de los \")+str(decada))\n    elif edad>=70 and edad<=79:\n            decada=70\n            print((\"La persona \")+str(nombre)+(\" tiene \")+str(edad)+(\" esta en la decada de los \")+str(decada))\n    elif edad>=80 and edad<=89:\n            decada=80\n            print((\"La persona \")+str(nombre)+(\" tiene \")+str(edad)+(\" esta en la decada de los \")+str(decada))\n    elif edad>=90 and edad<=99:\n            decada=90\n            print((\"La persona \")+str(nombre)+(\" tiene \")+str(edad)+(\" esta en la decada de los \")+str(decada))\n    elif edad>=100:\n            print(\"Edad incorrecta\")\n        \n           ",
      "metadata": {
        "trusted": true
      },
      "execution_count": 2,
      "outputs": []
    },
    {
      "cell_type": "code",
      "source": "calculoedad (\"Alex\",13)\n",
      "metadata": {
        "trusted": true
      },
      "execution_count": 3,
      "outputs": [
        {
          "name": "stdout",
          "text": "La persona Alex tiene 13 esta en la decada de los 10\n",
          "output_type": "stream"
        }
      ]
    },
    {
      "cell_type": "code",
      "source": "#Practica 5 variante profesor\ndef calculoedad2 (nombre,edad):\n    \n    if edad<1:\n        print(\"Edad incorrecta\")\n    else:\n        if edad>=1 and edad<=9:\n                decada=\"Decada 0\"           \n        elif edad>=10 and edad<=19: \n                decada=\"Decada 10\"\n        elif edad>=20 and edad<=29:\n                decada=\"Decada 10\"\n        elif edad>=30 and edad<=39:\n                decada=\"Decada 10\"\n        elif edad>=40 and edad<=49:\n                decada=\"Decada 10\"\n        elif edad>=50 and edad<=59:\n                decada=\"Decada 10\"\n        elif edad>=60 and edad<=69:\n                decada=\"Decada 10\"\n        print(\"La persona \" +nombre+ \" con edad igual a \"+str(edad)+ \" pertenece a la \" +decada )",
      "metadata": {
        "trusted": true
      },
      "execution_count": 31,
      "outputs": []
    },
    {
      "cell_type": "code",
      "source": "\ncalculoedad2 (\"pedro\",0)",
      "metadata": {
        "trusted": true
      },
      "execution_count": 32,
      "outputs": [
        {
          "name": "stdout",
          "text": "Edad incorrecta\n",
          "output_type": "stream"
        }
      ]
    },
    {
      "cell_type": "code",
      "source": "#Segundo dia de clase 9/11/2022\n#El bucle en python, es un codigo que se repite hasta que se cumple una condicion dada\n#Dos tipos de bucles, finito y infinito\n#Los finitos son los que finalizaran si o si.\n#Los infinitos son los que puede que terminen o no\n#El bucle for seria el finito\nfor i in [1,2,3]:\n    print(i)\nfor j in [1,2,3]:\n    print(\"El valor de la variable es \" + str(j))",
      "metadata": {
        "trusted": true
      },
      "execution_count": 36,
      "outputs": [
        {
          "name": "stdout",
          "text": "1\n2\n3\nEl valor de la variable es 1\nEl valor de la variable es 2\nEl valor de la variable es 3\n",
          "output_type": "stream"
        }
      ]
    },
    {
      "cell_type": "code",
      "source": "for dias in [\"Lunes\",\"Martes\",\"Miercoles\", \"Jueves\", \"Viernes\"]:\n    print(\"El dia de la semana es \"+dias)",
      "metadata": {
        "trusted": true
      },
      "execution_count": 39,
      "outputs": [
        {
          "name": "stdout",
          "text": "El dia de la semana es Lunes\nEl dia de la semana es Martes\nEl dia de la semana es Miercoles\nEl dia de la semana es Jueves\nEl dia de la semana es Viernes\n",
          "output_type": "stream"
        }
      ]
    },
    {
      "cell_type": "code",
      "source": "palabra = \"Python\"\nfor letra in palabra:\n    if letra == \"h\":\n        break\n    else:\n        print(letra)\n#Como salir de un bucle cuando me interesa con el comando break\n",
      "metadata": {
        "trusted": true
      },
      "execution_count": 49,
      "outputs": [
        {
          "name": "stdout",
          "text": "P\ny\nt\n",
          "output_type": "stream"
        }
      ]
    },
    {
      "cell_type": "code",
      "source": "#Range era una funcion que nos daba numeros del 1 al X, pero empieza por 0\nfor i in range(1,10,2): # 1 el inicio 10 valor final 2 es el step\n    print(i)\n",
      "metadata": {
        "trusted": true
      },
      "execution_count": 44,
      "outputs": [
        {
          "name": "stdout",
          "text": "1\n3\n5\n7\n9\n",
          "output_type": "stream"
        }
      ]
    },
    {
      "cell_type": "code",
      "source": "for j in range(10,0,-1): # 1 el inicio 10 valor final 2 es el step\n    print(j)",
      "metadata": {
        "trusted": true
      },
      "execution_count": 46,
      "outputs": [
        {
          "name": "stdout",
          "text": "10\n9\n8\n7\n6\n5\n4\n3\n2\n1\n",
          "output_type": "stream"
        }
      ]
    },
    {
      "cell_type": "code",
      "source": "",
      "metadata": {},
      "execution_count": null,
      "outputs": []
    },
    {
      "cell_type": "code",
      "source": "#Operadores de comparacion \n== igual que\n> mayor que\n< menor que\n>= mayor o igual\n!= distinto\n",
      "metadata": {},
      "execution_count": null,
      "outputs": []
    },
    {
      "cell_type": "code",
      "source": "#Practica 6 vamos a crear una función llamada todo_menos_s en la que pasaremos como parámetro una palabra.\n#El objetivo es imprimir esa palabra, sin la letra S (si es que la lleva)\n#utilizar la funcion upper()\ndef todo_menos_s(nombre):\n    for letra in nombre:\n        if letra.upper() == \"S\" or letra.upper()== \"T\":\n            continue\n        else:\n            print(letra)",
      "metadata": {
        "trusted": true
      },
      "execution_count": 45,
      "outputs": []
    },
    {
      "cell_type": "code",
      "source": "todo_menos_s(\"CASTILLO\")",
      "metadata": {
        "trusted": true
      },
      "execution_count": 27,
      "outputs": [
        {
          "name": "stdout",
          "text": "C\nA\nI\nL\nL\nO\n",
          "output_type": "stream"
        }
      ]
    },
    {
      "cell_type": "code",
      "source": "#Practica 6 bis variante crear un segundo parametro en la funcion para controlar si la letra impresa sera en mayusculas o minusculas\n#\ndef todo_menos_s_t(nombre,tab):\n    for letra in nombre:\n        if letra.upper() == \"S\" or letra.upper()== \"T\":\n            continue\n        else:\n            if tab==0:\n                print(letra.upper())\n            elif tab ==1:\n                print(letra.lower())\n           ",
      "metadata": {
        "trusted": true
      },
      "execution_count": 79,
      "outputs": []
    },
    {
      "cell_type": "code",
      "source": "todo_menos_s_t(\"CASTILLO\",0)\n",
      "metadata": {
        "trusted": true
      },
      "execution_count": 82,
      "outputs": [
        {
          "name": "stdout",
          "text": "C\nA\nI\nL\nL\nO\n",
          "output_type": "stream"
        }
      ]
    },
    {
      "cell_type": "code",
      "source": "#Practica 6 bis bis \ndef todo_menos_s_t2(nombre,tab):\n    alfa = 0   #si es 0 al final del primer buvlre haria la impresion, si es 1 \n                # solo mostraria el mensaje no hay ni s ni T y salidria\n    for letra in nombre:\n        if letra.lower() != \"S\" or letra.lower()!= \"T\":\n            alfa = 1\n        else \n            alfa = 0\n            \n    if alfa = 0  #impreme las letras      \n            \n    else: #mostramos el mensaje\n            \n            if tab==0:\n                print(letra.upper())\n            elif tab ==1:\n                print(letra.lower())\n           ",
      "metadata": {},
      "execution_count": null,
      "outputs": []
    },
    {
      "cell_type": "code",
      "source": "",
      "metadata": {},
      "execution_count": null,
      "outputs": []
    },
    {
      "cell_type": "code",
      "source": "#Practica 7 , vamos a crear una función llamada print_4 en la que pasaremos como parámetro una palabra.\n#El objetivo es imprirmir las 4 primeras letras de la palabra (controlar que la palabra tenga 5 o mas letras)\ndef print_4(nombre):\n    contador = 0\n    for letra in nombre:\n        contador = contador + 1\n        print(letra)\n        if contador == 4:\n            break\n                ",
      "metadata": {
        "trusted": true
      },
      "execution_count": 1,
      "outputs": []
    },
    {
      "cell_type": "code",
      "source": "print_4(\"samsung\")",
      "metadata": {
        "trusted": true
      },
      "execution_count": 2,
      "outputs": [
        {
          "name": "stdout",
          "text": "s\na\nm\ns\n",
          "output_type": "stream"
        }
      ]
    },
    {
      "cell_type": "code",
      "source": "#EL bucle infinito , while...\ni =1\nwhile i<=3: # mientras el valor de la i sea igual o menor a 3 ejecuto el mismo codigo\n    print(i)\n    i = i + 1\nprint (\"Terminado con exito\")",
      "metadata": {
        "trusted": true
      },
      "execution_count": 3,
      "outputs": [
        {
          "name": "stdout",
          "text": "1\n2\n3\nTerminado con exito\n",
          "output_type": "stream"
        }
      ]
    },
    {
      "cell_type": "code",
      "source": "#necesita de una variable que controle el numero de iteracion o el valor\ni = 1\nwhile i <=50:\n    print (i)\n    i =3*i+1\nprint (\"Terminado con exito\")\n",
      "metadata": {
        "trusted": true
      },
      "execution_count": 5,
      "outputs": [
        {
          "name": "stdout",
          "text": "1\n4\n13\n40\nTerminado con exito\n",
          "output_type": "stream"
        }
      ]
    },
    {
      "cell_type": "code",
      "source": "#vamos a trabajar con una libreria de python\n#libreria Pandas sirve para trabajar con datos\n#tenemos que instalar la libreria Pandas en nuestro PC\n# comando pip list sirve para ver las librerias instaladas en el pc\nimport pandas as pd #pd es el nombre que le ponemos al pandas",
      "metadata": {
        "trusted": true
      },
      "execution_count": 9,
      "outputs": []
    },
    {
      "cell_type": "code",
      "source": "#clase de objeto series, una serie es una estructura de una dimension, son homogeneos.\n#todos los datos de la serie tienen que ser del mismo tipo, en este caso string, no se se puede mezclar\nes = pd.Series ([\"lunes\",\"martes\",\"miercoles\",\"jueves\",\"viernes\"])\nprint(es)",
      "metadata": {
        "trusted": true
      },
      "execution_count": 11,
      "outputs": [
        {
          "name": "stdout",
          "text": "0        lunes\n1       martes\n2    miercoles\n3       jueves\n4      viernes\ndtype: object\n",
          "output_type": "stream"
        }
      ]
    },
    {
      "cell_type": "code",
      "source": "es[0]",
      "metadata": {
        "trusted": true
      },
      "execution_count": 12,
      "outputs": [
        {
          "execution_count": 12,
          "output_type": "execute_result",
          "data": {
            "text/plain": "'lunes'"
          },
          "metadata": {}
        }
      ]
    },
    {
      "cell_type": "code",
      "source": "es[4]",
      "metadata": {
        "trusted": true
      },
      "execution_count": 13,
      "outputs": [
        {
          "execution_count": 13,
          "output_type": "execute_result",
          "data": {
            "text/plain": "'viernes'"
          },
          "metadata": {}
        }
      ]
    },
    {
      "cell_type": "code",
      "source": "num = pd.Series([8,16,25,7,36])\nprint (num)",
      "metadata": {
        "trusted": true
      },
      "execution_count": 14,
      "outputs": [
        {
          "name": "stdout",
          "text": "0     8\n1    16\n2    25\n3     7\n4    36\ndtype: int64\n",
          "output_type": "stream"
        }
      ]
    },
    {
      "cell_type": "code",
      "source": "#Resumen descriptivo de una serie, numero de elementos de la serie\nnum.count()",
      "metadata": {
        "trusted": true
      },
      "execution_count": 15,
      "outputs": [
        {
          "execution_count": 15,
          "output_type": "execute_result",
          "data": {
            "text/plain": "5"
          },
          "metadata": {}
        }
      ]
    },
    {
      "cell_type": "code",
      "source": "#La suma de los valores de la serie\nnum.sum()",
      "metadata": {
        "trusted": true
      },
      "execution_count": 16,
      "outputs": [
        {
          "execution_count": 16,
          "output_type": "execute_result",
          "data": {
            "text/plain": "92"
          },
          "metadata": {}
        }
      ]
    },
    {
      "cell_type": "code",
      "source": "num.max() # el numero mas grande de la serie",
      "metadata": {
        "trusted": true
      },
      "execution_count": 18,
      "outputs": [
        {
          "execution_count": 18,
          "output_type": "execute_result",
          "data": {
            "text/plain": "36"
          },
          "metadata": {}
        }
      ]
    },
    {
      "cell_type": "code",
      "source": "num.min() # el numero mas pequeño de la serie",
      "metadata": {
        "trusted": true
      },
      "execution_count": 19,
      "outputs": [
        {
          "execution_count": 19,
          "output_type": "execute_result",
          "data": {
            "text/plain": "7"
          },
          "metadata": {}
        }
      ]
    },
    {
      "cell_type": "code",
      "source": "num.mean() # nos da el promedio de los valores de la serie",
      "metadata": {
        "trusted": true
      },
      "execution_count": 20,
      "outputs": [
        {
          "execution_count": 20,
          "output_type": "execute_result",
          "data": {
            "text/plain": "18.4"
          },
          "metadata": {}
        }
      ]
    },
    {
      "cell_type": "code",
      "source": "num.cumsum() #vemos el valor acumulado de la serie",
      "metadata": {
        "trusted": true
      },
      "execution_count": 22,
      "outputs": [
        {
          "execution_count": 22,
          "output_type": "execute_result",
          "data": {
            "text/plain": "0     8\n1    24\n2    49\n3    56\n4    92\ndtype: int64"
          },
          "metadata": {}
        }
      ]
    },
    {
      "cell_type": "code",
      "source": "num.describe() # un resumen de los datos de la serie ,std la desviacion estandar",
      "metadata": {
        "trusted": true
      },
      "execution_count": 24,
      "outputs": [
        {
          "execution_count": 24,
          "output_type": "execute_result",
          "data": {
            "text/plain": "count     5.000000\nmean     18.400000\nstd      12.218838\nmin       7.000000\n25%       8.000000\n50%      16.000000\n75%      25.000000\nmax      36.000000\ndtype: float64"
          },
          "metadata": {}
        }
      ]
    },
    {
      "cell_type": "code",
      "source": "#Operaciones en una Serie\nnum + 3",
      "metadata": {
        "trusted": true
      },
      "execution_count": 25,
      "outputs": [
        {
          "execution_count": 25,
          "output_type": "execute_result",
          "data": {
            "text/plain": "0    11\n1    19\n2    28\n3    10\n4    39\ndtype: int64"
          },
          "metadata": {}
        }
      ]
    },
    {
      "cell_type": "code",
      "source": "# Ordenar una serie\nnum.sort_values(ascending=True)",
      "metadata": {
        "trusted": true
      },
      "execution_count": 36,
      "outputs": [
        {
          "execution_count": 36,
          "output_type": "execute_result",
          "data": {
            "text/plain": "3     7\n0     8\n1    16\n2    25\n4    36\ndtype: int64"
          },
          "metadata": {}
        }
      ]
    },
    {
      "cell_type": "code",
      "source": "#Practica 9 vamos a crear una serie llamada felix, con los siguientes numeros 45.12,85.60,23.70,64.22,104.25\n#queremos ver individualmente los valores mas grande, mas pequelo el promedio y la suma, verlos ordenados de mayor a menor\n#la suma acumulada y la cantidad de valores\nimport pandas as pd\nfelix = pd.Series([45.12, 85.60, 23.70, 64.22, 104.25])\n",
      "metadata": {
        "trusted": true
      },
      "execution_count": 34,
      "outputs": []
    },
    {
      "cell_type": "code",
      "source": "felix.max()",
      "metadata": {
        "trusted": true
      },
      "execution_count": 42,
      "outputs": [
        {
          "execution_count": 42,
          "output_type": "execute_result",
          "data": {
            "text/plain": "104.25"
          },
          "metadata": {}
        }
      ]
    },
    {
      "cell_type": "code",
      "source": "felix.min()",
      "metadata": {
        "trusted": true
      },
      "execution_count": 43,
      "outputs": [
        {
          "execution_count": 43,
          "output_type": "execute_result",
          "data": {
            "text/plain": "23.7"
          },
          "metadata": {}
        }
      ]
    },
    {
      "cell_type": "code",
      "source": "felix.mean()",
      "metadata": {
        "trusted": true
      },
      "execution_count": 48,
      "outputs": [
        {
          "execution_count": 48,
          "output_type": "execute_result",
          "data": {
            "text/plain": "64.578"
          },
          "metadata": {}
        }
      ]
    },
    {
      "cell_type": "code",
      "source": "felix.sum()",
      "metadata": {
        "trusted": true
      },
      "execution_count": 47,
      "outputs": [
        {
          "execution_count": 47,
          "output_type": "execute_result",
          "data": {
            "text/plain": "322.89"
          },
          "metadata": {}
        }
      ]
    },
    {
      "cell_type": "code",
      "source": "felix.cumsum()",
      "metadata": {
        "trusted": true
      },
      "execution_count": 46,
      "outputs": [
        {
          "execution_count": 46,
          "output_type": "execute_result",
          "data": {
            "text/plain": "0     45.12\n1    130.72\n2    154.42\n3    218.64\n4    322.89\ndtype: float64"
          },
          "metadata": {}
        }
      ]
    },
    {
      "cell_type": "code",
      "source": "felix.sort_values(ascending=False)",
      "metadata": {
        "trusted": true
      },
      "execution_count": 49,
      "outputs": [
        {
          "execution_count": 49,
          "output_type": "execute_result",
          "data": {
            "text/plain": "4    104.25\n1     85.60\n3     64.22\n0     45.12\n2     23.70\ndtype: float64"
          },
          "metadata": {}
        }
      ]
    },
    {
      "cell_type": "code",
      "source": "#el Data frame de pandas, es una estructura de dos dimensiones\nimport pandas as pd\ndf = pd.DataFrame([[\"Maria\",25,1.68],[\"Luis\",34,1.72],[\"Pedro\",28,1.80],[\"Monica\",42,1.59]],columns=[\"Nombre\",\"Edad\",\"Estatura\"])\nprint(df)\n",
      "metadata": {
        "trusted": true
      },
      "execution_count": 52,
      "outputs": [
        {
          "name": "stdout",
          "text": "   Nombre  Edad  Estatura\n0   Maria    25      1.68\n1    Luis    34      1.72\n2   Pedro    28      1.80\n3  Monica    42      1.59\n",
          "output_type": "stream"
        }
      ]
    },
    {
      "cell_type": "code",
      "source": "df[\"Edad\"]",
      "metadata": {
        "trusted": true
      },
      "execution_count": 53,
      "outputs": [
        {
          "execution_count": 53,
          "output_type": "execute_result",
          "data": {
            "text/plain": "0    25\n1    34\n2    28\n3    42\nName: Edad, dtype: int64"
          },
          "metadata": {}
        }
      ]
    },
    {
      "cell_type": "code",
      "source": "df[\"Edad\"].max()",
      "metadata": {
        "trusted": true
      },
      "execution_count": 55,
      "outputs": [
        {
          "execution_count": 55,
          "output_type": "execute_result",
          "data": {
            "text/plain": "42"
          },
          "metadata": {}
        }
      ]
    },
    {
      "cell_type": "code",
      "source": "",
      "metadata": {},
      "execution_count": null,
      "outputs": []
    }
  ]
}