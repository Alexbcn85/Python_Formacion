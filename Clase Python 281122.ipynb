{
  "metadata": {
    "language_info": {
      "codemirror_mode": {
        "name": "python",
        "version": 3
      },
      "file_extension": ".py",
      "mimetype": "text/x-python",
      "name": "python",
      "nbconvert_exporter": "python",
      "pygments_lexer": "ipython3",
      "version": "3.8"
    },
    "kernelspec": {
      "name": "python",
      "display_name": "Python (Pyodide)",
      "language": "python"
    }
  },
  "nbformat_minor": 4,
  "nbformat": 4,
  "cells": [
    {
      "cell_type": "code",
      "source": "#con la almohadilla pondre comentarios\n#las variables con objetos que se almacenan en ram\n#como asignar un valor a una variable\nx=2\ny=3\n#print sirve para ver el resultado del output\nprint(x+y)",
      "metadata": {
        "trusted": true
      },
      "execution_count": 1,
      "outputs": [
        {
          "name": "stdout",
          "text": "5\n",
          "output_type": "stream"
        }
      ]
    },
    {
      "cell_type": "code",
      "source": "x=5\nprint(\"El valor de X es \"+ x)",
      "metadata": {
        "trusted": true
      },
      "execution_count": 2,
      "outputs": [
        {
          "ename": "<class 'TypeError'>",
          "evalue": "can only concatenate str (not \"int\") to str",
          "traceback": [
            "\u001b[0;31m---------------------------------------------------------------------------\u001b[0m",
            "\u001b[0;31mTypeError\u001b[0m                                 Traceback (most recent call last)",
            "Cell \u001b[0;32mIn [2], line 2\u001b[0m\n\u001b[1;32m      1\u001b[0m x\u001b[38;5;241m=\u001b[39m\u001b[38;5;241m5\u001b[39m\n\u001b[0;32m----> 2\u001b[0m \u001b[38;5;28mprint\u001b[39m(\u001b[38;5;124;43m\"\u001b[39;49m\u001b[38;5;124;43mEl valor de X es \u001b[39;49m\u001b[38;5;124;43m\"\u001b[39;49m\u001b[38;5;241;43m+\u001b[39;49m\u001b[43m \u001b[49m\u001b[43mx\u001b[49m)\n",
            "\u001b[0;31mTypeError\u001b[0m: can only concatenate str (not \"int\") to str"
          ],
          "output_type": "error"
        }
      ]
    },
    {
      "cell_type": "code",
      "source": "#aprender la funcion str, convierte numeros en texto\n",
      "metadata": {},
      "execution_count": null,
      "outputs": []
    },
    {
      "cell_type": "code",
      "source": "x=5\nprint(\"El valor de X es \"+ str(x))",
      "metadata": {
        "trusted": true
      },
      "execution_count": 3,
      "outputs": [
        {
          "name": "stdout",
          "text": "El valor de X es 5\n",
          "output_type": "stream"
        }
      ]
    },
    {
      "cell_type": "code",
      "source": "#Python es un lenguaje de programacion tipado\n#distingue mayusculas de minusculas\nX=6\nprint(x+X)",
      "metadata": {
        "trusted": true
      },
      "execution_count": 4,
      "outputs": [
        {
          "name": "stdout",
          "text": "11\n",
          "output_type": "stream"
        }
      ]
    },
    {
      "cell_type": "code",
      "source": "#como modificar el valor de una variable existente\n#por ejemplo un contador\nX= X+1\nprint(X)",
      "metadata": {
        "trusted": true
      },
      "execution_count": 5,
      "outputs": [
        {
          "name": "stdout",
          "text": "7\n",
          "output_type": "stream"
        }
      ]
    },
    {
      "cell_type": "code",
      "source": "#Variables de texto, se deben asignar entre comillas\nq= \"hola\"\nprint(q)",
      "metadata": {
        "trusted": true
      },
      "execution_count": 6,
      "outputs": [
        {
          "name": "stdout",
          "text": "hola\n",
          "output_type": "stream"
        }
      ]
    },
    {
      "cell_type": "code",
      "source": "w= \"Adios\"\nprint(q+w)",
      "metadata": {
        "trusted": true
      },
      "execution_count": 7,
      "outputs": [
        {
          "name": "stdout",
          "text": "holaAdios\n",
          "output_type": "stream"
        }
      ]
    },
    {
      "cell_type": "code",
      "source": "print (q+\" \"+w)\n",
      "metadata": {
        "trusted": true
      },
      "execution_count": 8,
      "outputs": [
        {
          "name": "stdout",
          "text": "hola Adios\n",
          "output_type": "stream"
        }
      ]
    },
    {
      "cell_type": "code",
      "source": "#Las listas en python\nlista_compra = [\"pan\",\"leche\",\"fruta\",\"cerveza\", \"vodka\",\"fanta naranja\"]\nlista_compra",
      "metadata": {
        "trusted": true
      },
      "execution_count": 9,
      "outputs": [
        {
          "execution_count": 9,
          "output_type": "execute_result",
          "data": {
            "text/plain": "['pan', 'leche', 'fruta', 'cerveza', 'vodka', 'fanta naranja']"
          },
          "metadata": {}
        }
      ]
    },
    {
      "cell_type": "code",
      "source": "#como acceder a un elemento de la lista, con el corchete + su indice\nlista_compra[1]",
      "metadata": {
        "trusted": true
      },
      "execution_count": 10,
      "outputs": [
        {
          "execution_count": 10,
          "output_type": "execute_result",
          "data": {
            "text/plain": "'leche'"
          },
          "metadata": {}
        }
      ]
    },
    {
      "cell_type": "code",
      "source": "#las listas empiezan por el indice 0\nlista_compra[3]",
      "metadata": {
        "trusted": true
      },
      "execution_count": 11,
      "outputs": [
        {
          "execution_count": 11,
          "output_type": "execute_result",
          "data": {
            "text/plain": "'cerveza'"
          },
          "metadata": {}
        }
      ]
    },
    {
      "cell_type": "code",
      "source": "#como ñadir un elemento a una lista con append()\nlista_compra.append(\"macarrones\")\n",
      "metadata": {
        "trusted": true
      },
      "execution_count": 12,
      "outputs": []
    },
    {
      "cell_type": "code",
      "source": "lista_compra",
      "metadata": {
        "trusted": true
      },
      "execution_count": 13,
      "outputs": [
        {
          "execution_count": 13,
          "output_type": "execute_result",
          "data": {
            "text/plain": "['pan', 'leche', 'fruta', 'cerveza', 'vodka', 'fanta naranja', 'macarrones']"
          },
          "metadata": {}
        }
      ]
    },
    {
      "cell_type": "code",
      "source": "#como saber cuantos elementos tiene una lista, con la funcion len\nlen(lista_compra)\n",
      "metadata": {
        "trusted": true
      },
      "execution_count": 14,
      "outputs": [
        {
          "execution_count": 14,
          "output_type": "execute_result",
          "data": {
            "text/plain": "7"
          },
          "metadata": {}
        }
      ]
    },
    {
      "cell_type": "code",
      "source": "\nlista_compra.append(\"fruta\")\nlista_compra",
      "metadata": {
        "trusted": true
      },
      "execution_count": 16,
      "outputs": [
        {
          "execution_count": 16,
          "output_type": "execute_result",
          "data": {
            "text/plain": "['pan',\n 'leche',\n 'fruta',\n 'cerveza',\n 'vodka',\n 'fanta naranja',\n 'macarrones',\n 'fruta',\n 'fruta']"
          },
          "metadata": {}
        }
      ]
    },
    {
      "cell_type": "code",
      "source": "#la funcion count para contar cuantas veces se repite un elemnto\nlista_compra.count(\"fruta\")",
      "metadata": {
        "trusted": true
      },
      "execution_count": 17,
      "outputs": [
        {
          "execution_count": 17,
          "output_type": "execute_result",
          "data": {
            "text/plain": "3"
          },
          "metadata": {}
        }
      ]
    },
    {
      "cell_type": "code",
      "source": "#como insertamos un elemento a una lista, con insert\n#primero la posicion donde lo queremos insertar y despues el elemento\nlista_compra.insert(3,\"mayonesa\")",
      "metadata": {
        "trusted": true
      },
      "execution_count": 18,
      "outputs": []
    },
    {
      "cell_type": "code",
      "source": "lista_compra",
      "metadata": {
        "trusted": true
      },
      "execution_count": 19,
      "outputs": [
        {
          "execution_count": 19,
          "output_type": "execute_result",
          "data": {
            "text/plain": "['pan',\n 'leche',\n 'fruta',\n 'mayonesa',\n 'cerveza',\n 'vodka',\n 'fanta naranja',\n 'macarrones',\n 'fruta',\n 'fruta']"
          },
          "metadata": {}
        }
      ]
    },
    {
      "cell_type": "code",
      "source": "#como eliminar un elemento de la lista con remove\nlista_compra.remove(\"fruta\")\nlista_compra",
      "metadata": {
        "trusted": true
      },
      "execution_count": 20,
      "outputs": [
        {
          "execution_count": 20,
          "output_type": "execute_result",
          "data": {
            "text/plain": "['pan',\n 'leche',\n 'mayonesa',\n 'cerveza',\n 'vodka',\n 'fanta naranja',\n 'macarrones',\n 'fruta',\n 'fruta']"
          },
          "metadata": {}
        }
      ]
    },
    {
      "cell_type": "code",
      "source": "#unalista numerica y vamos a aprender range\nrange(10)",
      "metadata": {
        "trusted": true
      },
      "execution_count": 21,
      "outputs": [
        {
          "execution_count": 21,
          "output_type": "execute_result",
          "data": {
            "text/plain": "range(0, 10)"
          },
          "metadata": {}
        }
      ]
    },
    {
      "cell_type": "code",
      "source": "lista=range(10)\nlista",
      "metadata": {
        "trusted": true
      },
      "execution_count": 22,
      "outputs": [
        {
          "execution_count": 22,
          "output_type": "execute_result",
          "data": {
            "text/plain": "range(0, 10)"
          },
          "metadata": {}
        }
      ]
    },
    {
      "cell_type": "code",
      "source": "list(range(10))",
      "metadata": {
        "trusted": true
      },
      "execution_count": 23,
      "outputs": [
        {
          "execution_count": 23,
          "output_type": "execute_result",
          "data": {
            "text/plain": "[0, 1, 2, 3, 4, 5, 6, 7, 8, 9]"
          },
          "metadata": {}
        }
      ]
    },
    {
      "cell_type": "code",
      "source": "#vamos a generan que vayan de 2 en 2, con range normal va de 11, se incrementa 1\nlista3=range(0,20,2)#se incrementa de 2 en 2\nlist(lista3)",
      "metadata": {
        "trusted": true
      },
      "execution_count": 24,
      "outputs": [
        {
          "execution_count": 24,
          "output_type": "execute_result",
          "data": {
            "text/plain": "[0, 2, 4, 6, 8, 10, 12, 14, 16, 18]"
          },
          "metadata": {}
        }
      ]
    },
    {
      "cell_type": "code",
      "source": "lista4=range(5,50,3)\nlist(lista4)",
      "metadata": {
        "trusted": true
      },
      "execution_count": 27,
      "outputs": [
        {
          "execution_count": 27,
          "output_type": "execute_result",
          "data": {
            "text/plain": "[5, 8, 11, 14, 17, 20, 23, 26, 29, 32, 35, 38, 41, 44, 47]"
          },
          "metadata": {}
        }
      ]
    },
    {
      "cell_type": "code",
      "source": "lista5=range(50,5,-3)\nlist(lista5)",
      "metadata": {
        "trusted": true
      },
      "execution_count": 29,
      "outputs": [
        {
          "execution_count": 29,
          "output_type": "execute_result",
          "data": {
            "text/plain": "[50, 47, 44, 41, 38, 35, 32, 29, 26, 23, 20, 17, 14, 11, 8]"
          },
          "metadata": {}
        }
      ]
    },
    {
      "cell_type": "code",
      "source": "#funciones de resumen de una lista numerica\nlista6=[50,24,33,19,28]\nlista6",
      "metadata": {
        "trusted": true
      },
      "execution_count": 31,
      "outputs": [
        {
          "execution_count": 31,
          "output_type": "execute_result",
          "data": {
            "text/plain": "[50, 24, 33, 19, 28]"
          },
          "metadata": {}
        }
      ]
    },
    {
      "cell_type": "code",
      "source": "#para sumar la funcion sum\nsum(lista6)",
      "metadata": {
        "trusted": true
      },
      "execution_count": 32,
      "outputs": [
        {
          "execution_count": 32,
          "output_type": "execute_result",
          "data": {
            "text/plain": "154"
          },
          "metadata": {}
        }
      ]
    },
    {
      "cell_type": "code",
      "source": "#para ver el valor mas grande con max y el mas pequelo con min\nprint(max(lista6))\n\nprint(min(lista6))",
      "metadata": {
        "trusted": true
      },
      "execution_count": 33,
      "outputs": [
        {
          "name": "stdout",
          "text": "50\n19\n",
          "output_type": "stream"
        }
      ]
    },
    {
      "cell_type": "code",
      "source": "print(len(lista6))",
      "metadata": {
        "trusted": true
      },
      "execution_count": 34,
      "outputs": [
        {
          "name": "stdout",
          "text": "5\n",
          "output_type": "stream"
        }
      ]
    },
    {
      "cell_type": "code",
      "source": "#funciones d texto interesantes\nlista7=(\"esto es una lista de valores\")\nlista8 = lista7.split()",
      "metadata": {
        "trusted": true
      },
      "execution_count": 35,
      "outputs": []
    },
    {
      "cell_type": "code",
      "source": "print(lista8)",
      "metadata": {
        "trusted": true
      },
      "execution_count": 36,
      "outputs": [
        {
          "name": "stdout",
          "text": "['esto', 'es', 'una', 'lista', 'de', 'valores']\n",
          "output_type": "stream"
        }
      ]
    },
    {
      "cell_type": "code",
      "source": "len(lista8)",
      "metadata": {
        "trusted": true
      },
      "execution_count": 37,
      "outputs": [
        {
          "execution_count": 37,
          "output_type": "execute_result",
          "data": {
            "text/plain": "6"
          },
          "metadata": {}
        }
      ]
    },
    {
      "cell_type": "code",
      "source": "#El replace, para remplazar un valor con otro\nlista7",
      "metadata": {
        "trusted": true
      },
      "execution_count": 38,
      "outputs": [
        {
          "execution_count": 38,
          "output_type": "execute_result",
          "data": {
            "text/plain": "'esto es una lista de valores'"
          },
          "metadata": {}
        }
      ]
    },
    {
      "cell_type": "code",
      "source": "lista9 = lista7.replace(\"lista\",\"Diccionario\")\nlista9",
      "metadata": {
        "trusted": true
      },
      "execution_count": 40,
      "outputs": [
        {
          "execution_count": 40,
          "output_type": "execute_result",
          "data": {
            "text/plain": "'esto es una Diccionario de valores'"
          },
          "metadata": {}
        }
      ]
    },
    {
      "cell_type": "code",
      "source": "#como ver los valores en mayusculas con upper()\nlista9.upper()",
      "metadata": {
        "trusted": true
      },
      "execution_count": 41,
      "outputs": [
        {
          "execution_count": 41,
          "output_type": "execute_result",
          "data": {
            "text/plain": "'ESTO ES UNA DICCIONARIO DE VALORES'"
          },
          "metadata": {}
        }
      ]
    },
    {
      "cell_type": "code",
      "source": "#como verlo en minusculas con lower\nlista9.lower()",
      "metadata": {
        "trusted": true
      },
      "execution_count": 42,
      "outputs": [
        {
          "execution_count": 42,
          "output_type": "execute_result",
          "data": {
            "text/plain": "'esto es una diccionario de valores'"
          },
          "metadata": {}
        }
      ]
    },
    {
      "cell_type": "code",
      "source": "#en el navegador yupyter notebook ya tiene unas librerias\n#la mas conocida es la libreria pandas, sirve para manipular datos\n#primero tenemos que instalar en nuestro PC\n#para trabajar con una libreria primero la tenemos que llamar o importar\nimport pandas as pd",
      "metadata": {
        "trusted": true
      },
      "execution_count": 43,
      "outputs": []
    },
    {
      "cell_type": "code",
      "source": "#una serie de pandas, es una estructura de una dimension, son homogeneas deben ser del mismo tipo,(numero,fecha,texto)\ns=pd.Series(data=lista_compra)\nprint(s)\n",
      "metadata": {
        "trusted": true
      },
      "execution_count": 44,
      "outputs": [
        {
          "name": "stdout",
          "text": "0              pan\n1            leche\n2         mayonesa\n3          cerveza\n4            vodka\n5    fanta naranja\n6       macarrones\n7            fruta\n8            fruta\ndtype: object\n",
          "output_type": "stream"
        }
      ]
    },
    {
      "cell_type": "code",
      "source": "#como accedemos a una serie de pandas , igual que una lista con los corchetes\ns[2]",
      "metadata": {
        "trusted": true
      },
      "execution_count": 46,
      "outputs": [
        {
          "execution_count": 46,
          "output_type": "execute_result",
          "data": {
            "text/plain": "'mayonesa'"
          },
          "metadata": {}
        }
      ]
    },
    {
      "cell_type": "code",
      "source": "#Practica 1, en una lista normal de python, asignar valores 0 y 40 en multiplos de 2\n#asignar esta lista una Serie de pandas\n#imprimir la serie\nimport pandas as pd\nlista10=range(0,41,2)\nH=pd.Series(data=lista10)\n",
      "metadata": {
        "trusted": true
      },
      "execution_count": 47,
      "outputs": []
    },
    {
      "cell_type": "code",
      "source": "print(H)",
      "metadata": {
        "trusted": true
      },
      "execution_count": 48,
      "outputs": [
        {
          "name": "stdout",
          "text": "0      0\n1      2\n2      4\n3      6\n4      8\n5     10\n6     12\n7     14\n8     16\n9     18\n10    20\n11    22\n12    24\n13    26\n14    28\n15    30\n16    32\n17    34\n18    36\n19    38\n20    40\ndtype: int64\n",
          "output_type": "stream"
        }
      ]
    },
    {
      "cell_type": "code",
      "source": "#funcionalidades de las series\n#el numero de elementos\nH.count()",
      "metadata": {
        "trusted": true
      },
      "execution_count": 49,
      "outputs": [
        {
          "execution_count": 49,
          "output_type": "execute_result",
          "data": {
            "text/plain": "21"
          },
          "metadata": {}
        }
      ]
    },
    {
      "cell_type": "code",
      "source": "#la suma de los elementos\nH.sum()",
      "metadata": {
        "trusted": true
      },
      "execution_count": 50,
      "outputs": [
        {
          "execution_count": 50,
          "output_type": "execute_result",
          "data": {
            "text/plain": "420"
          },
          "metadata": {}
        }
      ]
    },
    {
      "cell_type": "code",
      "source": "#el acumulado de los valores de una serie\nH.cumsum()",
      "metadata": {
        "trusted": true
      },
      "execution_count": 51,
      "outputs": [
        {
          "execution_count": 51,
          "output_type": "execute_result",
          "data": {
            "text/plain": "0       0\n1       2\n2       6\n3      12\n4      20\n5      30\n6      42\n7      56\n8      72\n9      90\n10    110\n11    132\n12    156\n13    182\n14    210\n15    240\n16    272\n17    306\n18    342\n19    380\n20    420\ndtype: int64"
          },
          "metadata": {}
        }
      ]
    },
    {
      "cell_type": "code",
      "source": "#para ver el promedio con mean\nH.mean()",
      "metadata": {
        "trusted": true
      },
      "execution_count": 52,
      "outputs": [
        {
          "execution_count": 52,
          "output_type": "execute_result",
          "data": {
            "text/plain": "20.0"
          },
          "metadata": {}
        }
      ]
    },
    {
      "cell_type": "code",
      "source": "print(H*2)",
      "metadata": {
        "trusted": true
      },
      "execution_count": 53,
      "outputs": [
        {
          "name": "stdout",
          "text": "0      0\n1      4\n2      8\n3     12\n4     16\n5     20\n6     24\n7     28\n8     32\n9     36\n10    40\n11    44\n12    48\n13    52\n14    56\n15    60\n16    64\n17    68\n18    72\n19    76\n20    80\ndtype: int64\n",
          "output_type": "stream"
        }
      ]
    },
    {
      "cell_type": "code",
      "source": "# en una serie podemos ver la varianza con var(), la desviacion tipica con std()\n#una serie descriptivacon describe()\nH.describe()",
      "metadata": {
        "trusted": true
      },
      "execution_count": 54,
      "outputs": [
        {
          "execution_count": 54,
          "output_type": "execute_result",
          "data": {
            "text/plain": "count    21.000000\nmean     20.000000\nstd      12.409674\nmin       0.000000\n25%      10.000000\n50%      20.000000\n75%      30.000000\nmax      40.000000\ndtype: float64"
          },
          "metadata": {}
        }
      ]
    },
    {
      "cell_type": "code",
      "source": "#como hacemos una funcion personalizada a una serie\n#se realiza con def\n#despues de los dos puntos tengo que hacer intro, para tabular a la derecha\n\ndef nombre_funcion(x):\n    print(x+10)",
      "metadata": {
        "trusted": true
      },
      "execution_count": 55,
      "outputs": []
    },
    {
      "cell_type": "code",
      "source": "nombre_funcion(6)",
      "metadata": {
        "trusted": true
      },
      "execution_count": 56,
      "outputs": [
        {
          "name": "stdout",
          "text": "16\n",
          "output_type": "stream"
        }
      ]
    },
    {
      "cell_type": "code",
      "source": "#para aplicar una funcion personalizada en una serie pandas usamos el apply\nH.apply(nombre_funcion)",
      "metadata": {
        "trusted": true
      },
      "execution_count": 61,
      "outputs": [
        {
          "name": "stdout",
          "text": "10\n12\n14\n16\n18\n20\n22\n24\n26\n28\n30\n32\n34\n36\n38\n40\n42\n44\n46\n48\n50\n",
          "output_type": "stream"
        },
        {
          "execution_count": 61,
          "output_type": "execute_result",
          "data": {
            "text/plain": "0     None\n1     None\n2     None\n3     None\n4     None\n5     None\n6     None\n7     None\n8     None\n9     None\n10    None\n11    None\n12    None\n13    None\n14    None\n15    None\n16    None\n17    None\n18    None\n19    None\n20    None\ndtype: object"
          },
          "metadata": {}
        }
      ]
    },
    {
      "cell_type": "code",
      "source": "#como filtrar una serie en pandas\nprint(H[H>20])",
      "metadata": {
        "trusted": true
      },
      "execution_count": 62,
      "outputs": [
        {
          "name": "stdout",
          "text": "11    22\n12    24\n13    26\n14    28\n15    30\n16    32\n17    34\n18    36\n19    38\n20    40\ndtype: int64\n",
          "output_type": "stream"
        }
      ]
    },
    {
      "cell_type": "code",
      "source": "#como ordenar una serie, con sort_values(ascending=True) False = decreciente\nH.sort_values(ascending=False)",
      "metadata": {
        "trusted": true
      },
      "execution_count": 64,
      "outputs": [
        {
          "execution_count": 64,
          "output_type": "execute_result",
          "data": {
            "text/plain": "20    40\n19    38\n18    36\n17    34\n16    32\n15    30\n14    28\n13    26\n12    24\n11    22\n10    20\n9     18\n8     16\n7     14\n6     12\n5     10\n4      8\n3      6\n2      4\n1      2\n0      0\ndtype: int64"
          },
          "metadata": {}
        }
      ]
    },
    {
      "cell_type": "code",
      "source": "#Practica 2 en una variable almacenar los valores siguientes 15,26,19,33,75,54\n#crear una serie de pandas, ver la suma de los valores, el promedio y la desviacion tipica\n#aplicar una funcion a la serie que nos multiplique el valor x3 \n#ver los valores filtrados que sean mayores de 80 despues de aplicar la funcion\n#ver la serie ordenada en ascendente",
      "metadata": {},
      "execution_count": null,
      "outputs": []
    },
    {
      "cell_type": "code",
      "source": "import pandas as pd\nM=[15,26,19,33,75,54]\n\n\nlista30=pd.Series(data=M)",
      "metadata": {
        "trusted": true
      },
      "execution_count": 8,
      "outputs": []
    },
    {
      "cell_type": "code",
      "source": "#suma\nlista30.sum()",
      "metadata": {
        "trusted": true
      },
      "execution_count": 2,
      "outputs": [
        {
          "execution_count": 2,
          "output_type": "execute_result",
          "data": {
            "text/plain": "222"
          },
          "metadata": {}
        }
      ]
    },
    {
      "cell_type": "code",
      "source": "#promedio\nlista30.mean()",
      "metadata": {
        "trusted": true
      },
      "execution_count": 3,
      "outputs": [
        {
          "execution_count": 3,
          "output_type": "execute_result",
          "data": {
            "text/plain": "37.0"
          },
          "metadata": {}
        }
      ]
    },
    {
      "cell_type": "code",
      "source": "#desviacion tipica\nlista30.std()",
      "metadata": {
        "trusted": true
      },
      "execution_count": 4,
      "outputs": [
        {
          "execution_count": 4,
          "output_type": "execute_result",
          "data": {
            "text/plain": "23.143033509028154"
          },
          "metadata": {}
        }
      ]
    },
    {
      "cell_type": "code",
      "source": "def multiplica3(x):\n    print(x*3)\n    ",
      "metadata": {
        "trusted": true
      },
      "execution_count": 5,
      "outputs": []
    },
    {
      "cell_type": "code",
      "source": "\nlista30=pd.Series(data=M)\nlista30 = lista30.apply(multiplica3)\n",
      "metadata": {
        "trusted": true
      },
      "execution_count": 26,
      "outputs": [
        {
          "name": "stdout",
          "text": "45\n78\n57\n99\n225\n162\n",
          "output_type": "stream"
        }
      ]
    },
    {
      "cell_type": "code",
      "source": "",
      "metadata": {
        "trusted": true
      },
      "execution_count": null,
      "outputs": []
    },
    {
      "cell_type": "code",
      "source": "lista30=pd.Series(data=M)\nlista30.sort_values(ascending=True)",
      "metadata": {
        "trusted": true
      },
      "execution_count": 29,
      "outputs": [
        {
          "execution_count": 29,
          "output_type": "execute_result",
          "data": {
            "text/plain": "0    15\n2    19\n1    26\n3    33\n5    54\n4    75\ndtype: int64"
          },
          "metadata": {}
        }
      ]
    },
    {
      "cell_type": "code",
      "source": "lista30=pd.Series(data=M)\nprint(lista30[lista30>30])",
      "metadata": {
        "trusted": true
      },
      "execution_count": 31,
      "outputs": [
        {
          "name": "stdout",
          "text": "3    33\n4    75\n5    54\ndtype: int64\n",
          "output_type": "stream"
        }
      ]
    },
    {
      "cell_type": "code",
      "source": "def area(x,y):\n    print(\"El area es \" +str(x*y))\narea(5,30)",
      "metadata": {
        "trusted": true
      },
      "execution_count": 94,
      "outputs": [
        {
          "name": "stdout",
          "text": "El area es 150\n",
          "output_type": "stream"
        }
      ]
    },
    {
      "cell_type": "code",
      "source": "#Los Dataframe en python es una estructura de pandas de 2 dimensiones, tiene formato de tabla,\n#donde cada columna o campo es un objeto de tipo serie (datos son homogeneos)\n#tendremos 2 indices por un lado el nombre de las columnas y los numeros de la filas\n\nimport pandas as pd\ndf = pd.DataFrame([[\"Maria\",25,1.68],[\"Luis\",34,1.72],[\"Pedro\",28,1.80],[\"Monica\",42,1.59]],columns=[\"Nombre\",\"Edad\",\"Estatura\"])\nprint(df)",
      "metadata": {
        "trusted": true
      },
      "execution_count": 32,
      "outputs": [
        {
          "name": "stdout",
          "text": "   Nombre  Edad  Estatura\n0   Maria    25      1.68\n1    Luis    34      1.72\n2   Pedro    28      1.80\n3  Monica    42      1.59\n",
          "output_type": "stream"
        }
      ]
    },
    {
      "cell_type": "code",
      "source": "df.info()",
      "metadata": {
        "trusted": true
      },
      "execution_count": 34,
      "outputs": [
        {
          "name": "stdout",
          "text": "<class 'pandas.core.frame.DataFrame'>\nRangeIndex: 4 entries, 0 to 3\nData columns (total 3 columns):\n #   Column    Non-Null Count  Dtype  \n---  ------    --------------  -----  \n 0   Nombre    4 non-null      object \n 1   Edad      4 non-null      int64  \n 2   Estatura  4 non-null      float64\ndtypes: float64(1), int64(1), object(1)\nmemory usage: 148.0+ bytes\n",
          "output_type": "stream"
        }
      ]
    },
    {
      "cell_type": "code",
      "source": "df.columns",
      "metadata": {
        "trusted": true
      },
      "execution_count": 36,
      "outputs": [
        {
          "execution_count": 36,
          "output_type": "execute_result",
          "data": {
            "text/plain": "Index(['Nombre', 'Edad', 'Estatura'], dtype='object')"
          },
          "metadata": {}
        }
      ]
    },
    {
      "cell_type": "code",
      "source": "df.size",
      "metadata": {
        "trusted": true
      },
      "execution_count": 37,
      "outputs": [
        {
          "execution_count": 37,
          "output_type": "execute_result",
          "data": {
            "text/plain": "12"
          },
          "metadata": {}
        }
      ]
    },
    {
      "cell_type": "code",
      "source": "#como ver los primeros n registros de un dataframe con head\ndf.head(2)",
      "metadata": {
        "trusted": true
      },
      "execution_count": 38,
      "outputs": [
        {
          "execution_count": 38,
          "output_type": "execute_result",
          "data": {
            "text/plain": "  Nombre  Edad  Estatura\n0  Maria    25      1.68\n1   Luis    34      1.72",
            "text/html": "<div>\n<style scoped>\n    .dataframe tbody tr th:only-of-type {\n        vertical-align: middle;\n    }\n\n    .dataframe tbody tr th {\n        vertical-align: top;\n    }\n\n    .dataframe thead th {\n        text-align: right;\n    }\n</style>\n<table border=\"1\" class=\"dataframe\">\n  <thead>\n    <tr style=\"text-align: right;\">\n      <th></th>\n      <th>Nombre</th>\n      <th>Edad</th>\n      <th>Estatura</th>\n    </tr>\n  </thead>\n  <tbody>\n    <tr>\n      <th>0</th>\n      <td>Maria</td>\n      <td>25</td>\n      <td>1.68</td>\n    </tr>\n    <tr>\n      <th>1</th>\n      <td>Luis</td>\n      <td>34</td>\n      <td>1.72</td>\n    </tr>\n  </tbody>\n</table>\n</div>"
          },
          "metadata": {}
        }
      ]
    },
    {
      "cell_type": "code",
      "source": "#para ver los ultimos n registros con tail()\ndf.tail(1)",
      "metadata": {
        "trusted": true
      },
      "execution_count": 39,
      "outputs": [
        {
          "execution_count": 39,
          "output_type": "execute_result",
          "data": {
            "text/plain": "   Nombre  Edad  Estatura\n3  Monica    42      1.59",
            "text/html": "<div>\n<style scoped>\n    .dataframe tbody tr th:only-of-type {\n        vertical-align: middle;\n    }\n\n    .dataframe tbody tr th {\n        vertical-align: top;\n    }\n\n    .dataframe thead th {\n        text-align: right;\n    }\n</style>\n<table border=\"1\" class=\"dataframe\">\n  <thead>\n    <tr style=\"text-align: right;\">\n      <th></th>\n      <th>Nombre</th>\n      <th>Edad</th>\n      <th>Estatura</th>\n    </tr>\n  </thead>\n  <tbody>\n    <tr>\n      <th>3</th>\n      <td>Monica</td>\n      <td>42</td>\n      <td>1.59</td>\n    </tr>\n  </tbody>\n</table>\n</div>"
          },
          "metadata": {}
        }
      ]
    },
    {
      "cell_type": "code",
      "source": "#como ver solamente un campo o columna del dataframe\ndf[\"Edad\"]",
      "metadata": {
        "trusted": true
      },
      "execution_count": 41,
      "outputs": [
        {
          "execution_count": 41,
          "output_type": "execute_result",
          "data": {
            "text/plain": "0    25\n1    34\n2    28\n3    42\nName: Edad, dtype: int64"
          },
          "metadata": {}
        }
      ]
    },
    {
      "cell_type": "code",
      "source": "df[\"Nombre\"]",
      "metadata": {
        "trusted": true
      },
      "execution_count": 42,
      "outputs": [
        {
          "execution_count": 42,
          "output_type": "execute_result",
          "data": {
            "text/plain": "0     Maria\n1      Luis\n2     Pedro\n3    Monica\nName: Nombre, dtype: object"
          },
          "metadata": {}
        }
      ]
    },
    {
      "cell_type": "code",
      "source": "df[\"Edad\"].max()",
      "metadata": {
        "trusted": true
      },
      "execution_count": 43,
      "outputs": [
        {
          "execution_count": 43,
          "output_type": "execute_result",
          "data": {
            "text/plain": "42"
          },
          "metadata": {}
        }
      ]
    },
    {
      "cell_type": "code",
      "source": "#la persona de menor edad\ndf[\"Edad\"].min()",
      "metadata": {
        "trusted": true
      },
      "execution_count": 44,
      "outputs": [
        {
          "execution_count": 44,
          "output_type": "execute_result",
          "data": {
            "text/plain": "25"
          },
          "metadata": {}
        }
      ]
    },
    {
      "cell_type": "code",
      "source": "#Practica 3 ver el promedio de estatura\ndf[\"Estatura\"].mean()",
      "metadata": {
        "trusted": true
      },
      "execution_count": 45,
      "outputs": [
        {
          "execution_count": 45,
          "output_type": "execute_result",
          "data": {
            "text/plain": "1.6975"
          },
          "metadata": {}
        }
      ]
    },
    {
      "cell_type": "code",
      "source": "#como leer un fichero con pandas y cargarlo a un dataframe\npepe=pd.read_csv(\"January 2019 Limpio.csv\")",
      "metadata": {
        "trusted": true
      },
      "execution_count": 49,
      "outputs": []
    },
    {
      "cell_type": "code",
      "source": "pepe",
      "metadata": {
        "trusted": true
      },
      "execution_count": 50,
      "outputs": [
        {
          "execution_count": 50,
          "output_type": "execute_result",
          "data": {
            "text/plain": "           Date   Country  Units   Revenue\n0    2019-01-08       USA    343  15461.36\n1    2019-01-04    Panama     93   4681.26\n2    2019-01-07    Panama     42   2220.36\n3    2019-01-16    Brazil    103   1853.78\n4    2019-01-17       USA     28    286.30\n..          ...       ...    ...       ...\n184  2019-01-25       USA    337   4352.75\n185  2019-01-20  Colombia    197   3256.95\n186  2019-01-14    Brazil    214  12188.36\n187  2019-01-12  Colombia    102   6566.51\n188  2019-01-26    Panama     77   5103.71\n\n[189 rows x 4 columns]",
            "text/html": "<div>\n<style scoped>\n    .dataframe tbody tr th:only-of-type {\n        vertical-align: middle;\n    }\n\n    .dataframe tbody tr th {\n        vertical-align: top;\n    }\n\n    .dataframe thead th {\n        text-align: right;\n    }\n</style>\n<table border=\"1\" class=\"dataframe\">\n  <thead>\n    <tr style=\"text-align: right;\">\n      <th></th>\n      <th>Date</th>\n      <th>Country</th>\n      <th>Units</th>\n      <th>Revenue</th>\n    </tr>\n  </thead>\n  <tbody>\n    <tr>\n      <th>0</th>\n      <td>2019-01-08</td>\n      <td>USA</td>\n      <td>343</td>\n      <td>15461.36</td>\n    </tr>\n    <tr>\n      <th>1</th>\n      <td>2019-01-04</td>\n      <td>Panama</td>\n      <td>93</td>\n      <td>4681.26</td>\n    </tr>\n    <tr>\n      <th>2</th>\n      <td>2019-01-07</td>\n      <td>Panama</td>\n      <td>42</td>\n      <td>2220.36</td>\n    </tr>\n    <tr>\n      <th>3</th>\n      <td>2019-01-16</td>\n      <td>Brazil</td>\n      <td>103</td>\n      <td>1853.78</td>\n    </tr>\n    <tr>\n      <th>4</th>\n      <td>2019-01-17</td>\n      <td>USA</td>\n      <td>28</td>\n      <td>286.30</td>\n    </tr>\n    <tr>\n      <th>...</th>\n      <td>...</td>\n      <td>...</td>\n      <td>...</td>\n      <td>...</td>\n    </tr>\n    <tr>\n      <th>184</th>\n      <td>2019-01-25</td>\n      <td>USA</td>\n      <td>337</td>\n      <td>4352.75</td>\n    </tr>\n    <tr>\n      <th>185</th>\n      <td>2019-01-20</td>\n      <td>Colombia</td>\n      <td>197</td>\n      <td>3256.95</td>\n    </tr>\n    <tr>\n      <th>186</th>\n      <td>2019-01-14</td>\n      <td>Brazil</td>\n      <td>214</td>\n      <td>12188.36</td>\n    </tr>\n    <tr>\n      <th>187</th>\n      <td>2019-01-12</td>\n      <td>Colombia</td>\n      <td>102</td>\n      <td>6566.51</td>\n    </tr>\n    <tr>\n      <th>188</th>\n      <td>2019-01-26</td>\n      <td>Panama</td>\n      <td>77</td>\n      <td>5103.71</td>\n    </tr>\n  </tbody>\n</table>\n<p>189 rows × 4 columns</p>\n</div>"
          },
          "metadata": {}
        }
      ]
    },
    {
      "cell_type": "code",
      "source": "pepe",
      "metadata": {
        "trusted": true
      },
      "execution_count": 51,
      "outputs": [
        {
          "execution_count": 51,
          "output_type": "execute_result",
          "data": {
            "text/plain": "           Date   Country  Units   Revenue\n0    2019-01-08       USA    343  15461.36\n1    2019-01-04    Panama     93   4681.26\n2    2019-01-07    Panama     42   2220.36\n3    2019-01-16    Brazil    103   1853.78\n4    2019-01-17       USA     28    286.30\n..          ...       ...    ...       ...\n184  2019-01-25       USA    337   4352.75\n185  2019-01-20  Colombia    197   3256.95\n186  2019-01-14    Brazil    214  12188.36\n187  2019-01-12  Colombia    102   6566.51\n188  2019-01-26    Panama     77   5103.71\n\n[189 rows x 4 columns]",
            "text/html": "<div>\n<style scoped>\n    .dataframe tbody tr th:only-of-type {\n        vertical-align: middle;\n    }\n\n    .dataframe tbody tr th {\n        vertical-align: top;\n    }\n\n    .dataframe thead th {\n        text-align: right;\n    }\n</style>\n<table border=\"1\" class=\"dataframe\">\n  <thead>\n    <tr style=\"text-align: right;\">\n      <th></th>\n      <th>Date</th>\n      <th>Country</th>\n      <th>Units</th>\n      <th>Revenue</th>\n    </tr>\n  </thead>\n  <tbody>\n    <tr>\n      <th>0</th>\n      <td>2019-01-08</td>\n      <td>USA</td>\n      <td>343</td>\n      <td>15461.36</td>\n    </tr>\n    <tr>\n      <th>1</th>\n      <td>2019-01-04</td>\n      <td>Panama</td>\n      <td>93</td>\n      <td>4681.26</td>\n    </tr>\n    <tr>\n      <th>2</th>\n      <td>2019-01-07</td>\n      <td>Panama</td>\n      <td>42</td>\n      <td>2220.36</td>\n    </tr>\n    <tr>\n      <th>3</th>\n      <td>2019-01-16</td>\n      <td>Brazil</td>\n      <td>103</td>\n      <td>1853.78</td>\n    </tr>\n    <tr>\n      <th>4</th>\n      <td>2019-01-17</td>\n      <td>USA</td>\n      <td>28</td>\n      <td>286.30</td>\n    </tr>\n    <tr>\n      <th>...</th>\n      <td>...</td>\n      <td>...</td>\n      <td>...</td>\n      <td>...</td>\n    </tr>\n    <tr>\n      <th>184</th>\n      <td>2019-01-25</td>\n      <td>USA</td>\n      <td>337</td>\n      <td>4352.75</td>\n    </tr>\n    <tr>\n      <th>185</th>\n      <td>2019-01-20</td>\n      <td>Colombia</td>\n      <td>197</td>\n      <td>3256.95</td>\n    </tr>\n    <tr>\n      <th>186</th>\n      <td>2019-01-14</td>\n      <td>Brazil</td>\n      <td>214</td>\n      <td>12188.36</td>\n    </tr>\n    <tr>\n      <th>187</th>\n      <td>2019-01-12</td>\n      <td>Colombia</td>\n      <td>102</td>\n      <td>6566.51</td>\n    </tr>\n    <tr>\n      <th>188</th>\n      <td>2019-01-26</td>\n      <td>Panama</td>\n      <td>77</td>\n      <td>5103.71</td>\n    </tr>\n  </tbody>\n</table>\n<p>189 rows × 4 columns</p>\n</div>"
          },
          "metadata": {}
        }
      ]
    },
    {
      "cell_type": "code",
      "source": "#SEGUNDO DIA DE CLASE\n#asignar a un objeto el fichero csv\nimport pandas as pd\njanuary = pd.read_csv(\"January 2019 Limpio.csv\")\nfebruary = pd.read_csv(\"February 2019 Limpio.csv\")\nmarch = pd.read_csv(\"March 2019 Limpio.csv\")",
      "metadata": {
        "trusted": true
      },
      "execution_count": 52,
      "outputs": []
    },
    {
      "cell_type": "code",
      "source": "#Como hacer un Datframe consolidado, es decir con los datos de enero y febrero\n#la funcion concat, un dataframe resultante entre ellos dos\n#tienen que tener la misma estructura de datos\nbimensual = pd.concat([january,february])",
      "metadata": {
        "trusted": true
      },
      "execution_count": 53,
      "outputs": []
    },
    {
      "cell_type": "code",
      "source": "bimensual",
      "metadata": {
        "trusted": true
      },
      "execution_count": 54,
      "outputs": [
        {
          "execution_count": 54,
          "output_type": "execute_result",
          "data": {
            "text/plain": "           Date   Country  Units   Revenue\n0    2019-01-08       USA    343  15461.36\n1    2019-01-04    Panama     93   4681.26\n2    2019-01-07    Panama     42   2220.36\n3    2019-01-16    Brazil    103   1853.78\n4    2019-01-17       USA     28    286.30\n..          ...       ...    ...       ...\n212  2019-02-20    Panama    115   1572.80\n213  2019-02-28    Canada    243  20965.83\n214  2019-02-02  Colombia     16    132.29\n215  2019-02-15  Colombia    114   3767.13\n216  2019-02-12    Brazil    268   3750.49\n\n[406 rows x 4 columns]",
            "text/html": "<div>\n<style scoped>\n    .dataframe tbody tr th:only-of-type {\n        vertical-align: middle;\n    }\n\n    .dataframe tbody tr th {\n        vertical-align: top;\n    }\n\n    .dataframe thead th {\n        text-align: right;\n    }\n</style>\n<table border=\"1\" class=\"dataframe\">\n  <thead>\n    <tr style=\"text-align: right;\">\n      <th></th>\n      <th>Date</th>\n      <th>Country</th>\n      <th>Units</th>\n      <th>Revenue</th>\n    </tr>\n  </thead>\n  <tbody>\n    <tr>\n      <th>0</th>\n      <td>2019-01-08</td>\n      <td>USA</td>\n      <td>343</td>\n      <td>15461.36</td>\n    </tr>\n    <tr>\n      <th>1</th>\n      <td>2019-01-04</td>\n      <td>Panama</td>\n      <td>93</td>\n      <td>4681.26</td>\n    </tr>\n    <tr>\n      <th>2</th>\n      <td>2019-01-07</td>\n      <td>Panama</td>\n      <td>42</td>\n      <td>2220.36</td>\n    </tr>\n    <tr>\n      <th>3</th>\n      <td>2019-01-16</td>\n      <td>Brazil</td>\n      <td>103</td>\n      <td>1853.78</td>\n    </tr>\n    <tr>\n      <th>4</th>\n      <td>2019-01-17</td>\n      <td>USA</td>\n      <td>28</td>\n      <td>286.30</td>\n    </tr>\n    <tr>\n      <th>...</th>\n      <td>...</td>\n      <td>...</td>\n      <td>...</td>\n      <td>...</td>\n    </tr>\n    <tr>\n      <th>212</th>\n      <td>2019-02-20</td>\n      <td>Panama</td>\n      <td>115</td>\n      <td>1572.80</td>\n    </tr>\n    <tr>\n      <th>213</th>\n      <td>2019-02-28</td>\n      <td>Canada</td>\n      <td>243</td>\n      <td>20965.83</td>\n    </tr>\n    <tr>\n      <th>214</th>\n      <td>2019-02-02</td>\n      <td>Colombia</td>\n      <td>16</td>\n      <td>132.29</td>\n    </tr>\n    <tr>\n      <th>215</th>\n      <td>2019-02-15</td>\n      <td>Colombia</td>\n      <td>114</td>\n      <td>3767.13</td>\n    </tr>\n    <tr>\n      <th>216</th>\n      <td>2019-02-12</td>\n      <td>Brazil</td>\n      <td>268</td>\n      <td>3750.49</td>\n    </tr>\n  </tbody>\n</table>\n<p>406 rows × 4 columns</p>\n</div>"
          },
          "metadata": {}
        }
      ]
    },
    {
      "cell_type": "code",
      "source": "#Practica 1 \n# Cargar al objeto January los valores del fichero january 2019 limpio\n#Cargar al objeto febrary los valores del fichero febrary 2019 limpio\n#Cargar al objeto march los valores del fichero march 2019 limpio\n#en un objeto trimestre concatenar los 3 meses, ver el promedio de unidades del trimetstre, unidades mas grandes,pequeñas\n#ver la suma de unidades\n",
      "metadata": {},
      "execution_count": null,
      "outputs": []
    },
    {
      "cell_type": "code",
      "source": "trimestral = pd.concat([january,february,march])",
      "metadata": {
        "trusted": true
      },
      "execution_count": 55,
      "outputs": []
    },
    {
      "cell_type": "code",
      "source": "#promedio\ntrimestral[\"Units\"].mean()",
      "metadata": {
        "trusted": true
      },
      "execution_count": 57,
      "outputs": [
        {
          "execution_count": 57,
          "output_type": "execute_result",
          "data": {
            "text/plain": "205.80984952120383"
          },
          "metadata": {}
        }
      ]
    },
    {
      "cell_type": "code",
      "source": "#valor max\ntrimestral[\"Units\"].max()",
      "metadata": {
        "trusted": true
      },
      "execution_count": 58,
      "outputs": [
        {
          "execution_count": 58,
          "output_type": "execute_result",
          "data": {
            "text/plain": "400"
          },
          "metadata": {}
        }
      ]
    },
    {
      "cell_type": "code",
      "source": "#valor min\ntrimestral[\"Units\"].min()",
      "metadata": {
        "trusted": true
      },
      "execution_count": 59,
      "outputs": [
        {
          "execution_count": 59,
          "output_type": "execute_result",
          "data": {
            "text/plain": "10"
          },
          "metadata": {}
        }
      ]
    },
    {
      "cell_type": "code",
      "source": "#suma de todos los valores\ntrimestral[\"Units\"].sum()",
      "metadata": {
        "trusted": true
      },
      "execution_count": 60,
      "outputs": [
        {
          "execution_count": 60,
          "output_type": "execute_result",
          "data": {
            "text/plain": "150447"
          },
          "metadata": {}
        }
      ]
    },
    {
      "cell_type": "code",
      "source": "march[\"Date\"].sort_values(ascending=True)",
      "metadata": {
        "trusted": true
      },
      "execution_count": 61,
      "outputs": [
        {
          "execution_count": 61,
          "output_type": "execute_result",
          "data": {
            "text/plain": "162    2019-03-01\n97     2019-03-01\n141    2019-03-01\n143    2019-03-01\n145    2019-03-01\n          ...    \n23     2019-03-31\n64     2019-03-31\n66     2019-03-31\n21     2019-03-31\n246    2019-03-31\nName: Date, Length: 325, dtype: object"
          },
          "metadata": {}
        }
      ]
    },
    {
      "cell_type": "code",
      "source": "porfecha= march.sort_values(\"Date\",ascending=True)\nporfecha",
      "metadata": {
        "trusted": true
      },
      "execution_count": 62,
      "outputs": [
        {
          "execution_count": 62,
          "output_type": "execute_result",
          "data": {
            "text/plain": "           Date   Country  Units   Revenue\n162  2019-03-01    Brazil    330  16304.19\n97   2019-03-01       USA    378   7383.58\n141  2019-03-01    Canada    245  21329.32\n143  2019-03-01    Panama    120     19.23\n145  2019-03-01  Colombia     21    938.51\n..          ...       ...    ...       ...\n23   2019-03-31       USA    330  17351.25\n64   2019-03-31    Brazil    304   2152.72\n66   2019-03-31  Colombia    384   9508.81\n21   2019-03-31    Canada    115   1087.99\n246  2019-03-31  Colombia    329  10854.88\n\n[325 rows x 4 columns]",
            "text/html": "<div>\n<style scoped>\n    .dataframe tbody tr th:only-of-type {\n        vertical-align: middle;\n    }\n\n    .dataframe tbody tr th {\n        vertical-align: top;\n    }\n\n    .dataframe thead th {\n        text-align: right;\n    }\n</style>\n<table border=\"1\" class=\"dataframe\">\n  <thead>\n    <tr style=\"text-align: right;\">\n      <th></th>\n      <th>Date</th>\n      <th>Country</th>\n      <th>Units</th>\n      <th>Revenue</th>\n    </tr>\n  </thead>\n  <tbody>\n    <tr>\n      <th>162</th>\n      <td>2019-03-01</td>\n      <td>Brazil</td>\n      <td>330</td>\n      <td>16304.19</td>\n    </tr>\n    <tr>\n      <th>97</th>\n      <td>2019-03-01</td>\n      <td>USA</td>\n      <td>378</td>\n      <td>7383.58</td>\n    </tr>\n    <tr>\n      <th>141</th>\n      <td>2019-03-01</td>\n      <td>Canada</td>\n      <td>245</td>\n      <td>21329.32</td>\n    </tr>\n    <tr>\n      <th>143</th>\n      <td>2019-03-01</td>\n      <td>Panama</td>\n      <td>120</td>\n      <td>19.23</td>\n    </tr>\n    <tr>\n      <th>145</th>\n      <td>2019-03-01</td>\n      <td>Colombia</td>\n      <td>21</td>\n      <td>938.51</td>\n    </tr>\n    <tr>\n      <th>...</th>\n      <td>...</td>\n      <td>...</td>\n      <td>...</td>\n      <td>...</td>\n    </tr>\n    <tr>\n      <th>23</th>\n      <td>2019-03-31</td>\n      <td>USA</td>\n      <td>330</td>\n      <td>17351.25</td>\n    </tr>\n    <tr>\n      <th>64</th>\n      <td>2019-03-31</td>\n      <td>Brazil</td>\n      <td>304</td>\n      <td>2152.72</td>\n    </tr>\n    <tr>\n      <th>66</th>\n      <td>2019-03-31</td>\n      <td>Colombia</td>\n      <td>384</td>\n      <td>9508.81</td>\n    </tr>\n    <tr>\n      <th>21</th>\n      <td>2019-03-31</td>\n      <td>Canada</td>\n      <td>115</td>\n      <td>1087.99</td>\n    </tr>\n    <tr>\n      <th>246</th>\n      <td>2019-03-31</td>\n      <td>Colombia</td>\n      <td>329</td>\n      <td>10854.88</td>\n    </tr>\n  </tbody>\n</table>\n<p>325 rows × 4 columns</p>\n</div>"
          },
          "metadata": {}
        }
      ]
    },
    {
      "cell_type": "code",
      "source": "#como ordenar la tabla , necesitamos otro objeto o variable\nunidadesasc= trimestral.sort_values(\"Units\",ascending=True)\nunidadesasc.head(10)",
      "metadata": {
        "trusted": true
      },
      "execution_count": 66,
      "outputs": [
        {
          "execution_count": 66,
          "output_type": "execute_result",
          "data": {
            "text/plain": "           Date   Country  Units  Revenue\n176  2019-01-20  Colombia     10   457.62\n123  2019-01-03  Colombia     10   729.39\n87   2019-03-06       USA     11   269.19\n306  2019-03-16    Canada     11    51.43\n160  2019-03-09    Brazil     12   265.21\n139  2019-03-23    Canada     13   243.09\n63   2019-02-06  Colombia     14   170.09\n118  2019-01-04    Canada     15   309.81\n36   2019-01-05    Panama     15   159.28\n42   2019-01-25    Canada     15   311.34",
            "text/html": "<div>\n<style scoped>\n    .dataframe tbody tr th:only-of-type {\n        vertical-align: middle;\n    }\n\n    .dataframe tbody tr th {\n        vertical-align: top;\n    }\n\n    .dataframe thead th {\n        text-align: right;\n    }\n</style>\n<table border=\"1\" class=\"dataframe\">\n  <thead>\n    <tr style=\"text-align: right;\">\n      <th></th>\n      <th>Date</th>\n      <th>Country</th>\n      <th>Units</th>\n      <th>Revenue</th>\n    </tr>\n  </thead>\n  <tbody>\n    <tr>\n      <th>176</th>\n      <td>2019-01-20</td>\n      <td>Colombia</td>\n      <td>10</td>\n      <td>457.62</td>\n    </tr>\n    <tr>\n      <th>123</th>\n      <td>2019-01-03</td>\n      <td>Colombia</td>\n      <td>10</td>\n      <td>729.39</td>\n    </tr>\n    <tr>\n      <th>87</th>\n      <td>2019-03-06</td>\n      <td>USA</td>\n      <td>11</td>\n      <td>269.19</td>\n    </tr>\n    <tr>\n      <th>306</th>\n      <td>2019-03-16</td>\n      <td>Canada</td>\n      <td>11</td>\n      <td>51.43</td>\n    </tr>\n    <tr>\n      <th>160</th>\n      <td>2019-03-09</td>\n      <td>Brazil</td>\n      <td>12</td>\n      <td>265.21</td>\n    </tr>\n    <tr>\n      <th>139</th>\n      <td>2019-03-23</td>\n      <td>Canada</td>\n      <td>13</td>\n      <td>243.09</td>\n    </tr>\n    <tr>\n      <th>63</th>\n      <td>2019-02-06</td>\n      <td>Colombia</td>\n      <td>14</td>\n      <td>170.09</td>\n    </tr>\n    <tr>\n      <th>118</th>\n      <td>2019-01-04</td>\n      <td>Canada</td>\n      <td>15</td>\n      <td>309.81</td>\n    </tr>\n    <tr>\n      <th>36</th>\n      <td>2019-01-05</td>\n      <td>Panama</td>\n      <td>15</td>\n      <td>159.28</td>\n    </tr>\n    <tr>\n      <th>42</th>\n      <td>2019-01-25</td>\n      <td>Canada</td>\n      <td>15</td>\n      <td>311.34</td>\n    </tr>\n  </tbody>\n</table>\n</div>"
          },
          "metadata": {}
        }
      ]
    },
    {
      "cell_type": "code",
      "source": "#como ordenar por fecha descendente\nfechadesc = trimestral.sort_values(\"Date\", ascending= False)\nfechadesc\n",
      "metadata": {
        "trusted": true
      },
      "execution_count": 67,
      "outputs": [
        {
          "execution_count": 67,
          "output_type": "execute_result",
          "data": {
            "text/plain": "           Date   Country  Units   Revenue\n22   2019-03-31    Canada    157   4641.51\n316  2019-03-31    Brazil    337   2750.29\n194  2019-03-31    Canada    202   6633.31\n72   2019-03-31       USA    179   1421.94\n66   2019-03-31  Colombia    384   9508.81\n..          ...       ...    ...       ...\n67   2019-01-01       USA    295  10000.97\n54   2019-01-01    Panama    293     73.34\n51   2019-01-01    Brazil     86   1264.87\n124  2019-01-01  Colombia    252   2309.61\n128  2019-01-01    Panama    310   5679.56\n\n[731 rows x 4 columns]",
            "text/html": "<div>\n<style scoped>\n    .dataframe tbody tr th:only-of-type {\n        vertical-align: middle;\n    }\n\n    .dataframe tbody tr th {\n        vertical-align: top;\n    }\n\n    .dataframe thead th {\n        text-align: right;\n    }\n</style>\n<table border=\"1\" class=\"dataframe\">\n  <thead>\n    <tr style=\"text-align: right;\">\n      <th></th>\n      <th>Date</th>\n      <th>Country</th>\n      <th>Units</th>\n      <th>Revenue</th>\n    </tr>\n  </thead>\n  <tbody>\n    <tr>\n      <th>22</th>\n      <td>2019-03-31</td>\n      <td>Canada</td>\n      <td>157</td>\n      <td>4641.51</td>\n    </tr>\n    <tr>\n      <th>316</th>\n      <td>2019-03-31</td>\n      <td>Brazil</td>\n      <td>337</td>\n      <td>2750.29</td>\n    </tr>\n    <tr>\n      <th>194</th>\n      <td>2019-03-31</td>\n      <td>Canada</td>\n      <td>202</td>\n      <td>6633.31</td>\n    </tr>\n    <tr>\n      <th>72</th>\n      <td>2019-03-31</td>\n      <td>USA</td>\n      <td>179</td>\n      <td>1421.94</td>\n    </tr>\n    <tr>\n      <th>66</th>\n      <td>2019-03-31</td>\n      <td>Colombia</td>\n      <td>384</td>\n      <td>9508.81</td>\n    </tr>\n    <tr>\n      <th>...</th>\n      <td>...</td>\n      <td>...</td>\n      <td>...</td>\n      <td>...</td>\n    </tr>\n    <tr>\n      <th>67</th>\n      <td>2019-01-01</td>\n      <td>USA</td>\n      <td>295</td>\n      <td>10000.97</td>\n    </tr>\n    <tr>\n      <th>54</th>\n      <td>2019-01-01</td>\n      <td>Panama</td>\n      <td>293</td>\n      <td>73.34</td>\n    </tr>\n    <tr>\n      <th>51</th>\n      <td>2019-01-01</td>\n      <td>Brazil</td>\n      <td>86</td>\n      <td>1264.87</td>\n    </tr>\n    <tr>\n      <th>124</th>\n      <td>2019-01-01</td>\n      <td>Colombia</td>\n      <td>252</td>\n      <td>2309.61</td>\n    </tr>\n    <tr>\n      <th>128</th>\n      <td>2019-01-01</td>\n      <td>Panama</td>\n      <td>310</td>\n      <td>5679.56</td>\n    </tr>\n  </tbody>\n</table>\n<p>731 rows × 4 columns</p>\n</div>"
          },
          "metadata": {}
        }
      ]
    },
    {
      "cell_type": "code",
      "source": "#Practica2\n#ordenar el dataframe triemeste por contry ascendente y ver solo 6 parametros y ver solo los 6 primeros\n#ordenar el dataframe triemeste por revenue descendiente y ver solo 6 parametros y ver solo los 6 primeros",
      "metadata": {
        "trusted": true
      },
      "execution_count": 68,
      "outputs": []
    },
    {
      "cell_type": "code",
      "source": "countryasc= trimestral.sort_values(\"Country\",ascending=True)\ncountryasc.head(6)",
      "metadata": {
        "trusted": true
      },
      "execution_count": 69,
      "outputs": [
        {
          "execution_count": 69,
          "output_type": "execute_result",
          "data": {
            "text/plain": "           Date Country  Units   Revenue\n52   2019-02-10  Brazil    244  14009.41\n266  2019-03-03  Brazil    354  26971.78\n264  2019-03-19  Brazil     94   4224.30\n105  2019-01-06  Brazil     55    619.87\n106  2019-01-05  Brazil    383  11854.56\n107  2019-01-12  Brazil    258  12418.27",
            "text/html": "<div>\n<style scoped>\n    .dataframe tbody tr th:only-of-type {\n        vertical-align: middle;\n    }\n\n    .dataframe tbody tr th {\n        vertical-align: top;\n    }\n\n    .dataframe thead th {\n        text-align: right;\n    }\n</style>\n<table border=\"1\" class=\"dataframe\">\n  <thead>\n    <tr style=\"text-align: right;\">\n      <th></th>\n      <th>Date</th>\n      <th>Country</th>\n      <th>Units</th>\n      <th>Revenue</th>\n    </tr>\n  </thead>\n  <tbody>\n    <tr>\n      <th>52</th>\n      <td>2019-02-10</td>\n      <td>Brazil</td>\n      <td>244</td>\n      <td>14009.41</td>\n    </tr>\n    <tr>\n      <th>266</th>\n      <td>2019-03-03</td>\n      <td>Brazil</td>\n      <td>354</td>\n      <td>26971.78</td>\n    </tr>\n    <tr>\n      <th>264</th>\n      <td>2019-03-19</td>\n      <td>Brazil</td>\n      <td>94</td>\n      <td>4224.30</td>\n    </tr>\n    <tr>\n      <th>105</th>\n      <td>2019-01-06</td>\n      <td>Brazil</td>\n      <td>55</td>\n      <td>619.87</td>\n    </tr>\n    <tr>\n      <th>106</th>\n      <td>2019-01-05</td>\n      <td>Brazil</td>\n      <td>383</td>\n      <td>11854.56</td>\n    </tr>\n    <tr>\n      <th>107</th>\n      <td>2019-01-12</td>\n      <td>Brazil</td>\n      <td>258</td>\n      <td>12418.27</td>\n    </tr>\n  </tbody>\n</table>\n</div>"
          },
          "metadata": {}
        }
      ]
    },
    {
      "cell_type": "code",
      "source": "revenueasc= trimestral.sort_values(\"Revenue\",ascending=False)\nrevenueasc.head(6)",
      "metadata": {
        "trusted": true
      },
      "execution_count": 70,
      "outputs": [
        {
          "execution_count": 70,
          "output_type": "execute_result",
          "data": {
            "text/plain": "           Date   Country  Units   Revenue\n177  2019-03-10    Brazil    390  36749.90\n125  2019-01-25    Canada    351  34287.19\n146  2019-01-14    Canada    367  31226.52\n19   2019-01-03    Brazil    377  30840.25\n279  2019-03-14    Panama    340  29618.13\n53   2019-03-24  Colombia    370  29222.28",
            "text/html": "<div>\n<style scoped>\n    .dataframe tbody tr th:only-of-type {\n        vertical-align: middle;\n    }\n\n    .dataframe tbody tr th {\n        vertical-align: top;\n    }\n\n    .dataframe thead th {\n        text-align: right;\n    }\n</style>\n<table border=\"1\" class=\"dataframe\">\n  <thead>\n    <tr style=\"text-align: right;\">\n      <th></th>\n      <th>Date</th>\n      <th>Country</th>\n      <th>Units</th>\n      <th>Revenue</th>\n    </tr>\n  </thead>\n  <tbody>\n    <tr>\n      <th>177</th>\n      <td>2019-03-10</td>\n      <td>Brazil</td>\n      <td>390</td>\n      <td>36749.90</td>\n    </tr>\n    <tr>\n      <th>125</th>\n      <td>2019-01-25</td>\n      <td>Canada</td>\n      <td>351</td>\n      <td>34287.19</td>\n    </tr>\n    <tr>\n      <th>146</th>\n      <td>2019-01-14</td>\n      <td>Canada</td>\n      <td>367</td>\n      <td>31226.52</td>\n    </tr>\n    <tr>\n      <th>19</th>\n      <td>2019-01-03</td>\n      <td>Brazil</td>\n      <td>377</td>\n      <td>30840.25</td>\n    </tr>\n    <tr>\n      <th>279</th>\n      <td>2019-03-14</td>\n      <td>Panama</td>\n      <td>340</td>\n      <td>29618.13</td>\n    </tr>\n    <tr>\n      <th>53</th>\n      <td>2019-03-24</td>\n      <td>Colombia</td>\n      <td>370</td>\n      <td>29222.28</td>\n    </tr>\n  </tbody>\n</table>\n</div>"
          },
          "metadata": {}
        }
      ]
    },
    {
      "cell_type": "code",
      "source": "#Como filtrar registros de un dataframe\ncountryusa = trimestral[\"Country\"]==\"USA\"\ntrimestreusa = trimestral[countryusa]\ntrimestreusa",
      "metadata": {
        "trusted": true
      },
      "execution_count": 72,
      "outputs": [
        {
          "execution_count": 72,
          "output_type": "execute_result",
          "data": {
            "text/plain": "           Date Country  Units   Revenue\n0    2019-01-08     USA    343  15461.36\n4    2019-01-17     USA     28    286.30\n11   2019-01-25     USA     56   1650.34\n18   2019-01-20     USA    296    391.86\n21   2019-01-05     USA    279  12881.19\n..          ...     ...    ...       ...\n301  2019-03-17     USA    378   5687.77\n317  2019-03-28     USA    319  10656.61\n318  2019-03-08     USA    155  11919.24\n320  2019-03-15     USA    246   6002.69\n321  2019-03-02     USA    240   3783.21\n\n[150 rows x 4 columns]",
            "text/html": "<div>\n<style scoped>\n    .dataframe tbody tr th:only-of-type {\n        vertical-align: middle;\n    }\n\n    .dataframe tbody tr th {\n        vertical-align: top;\n    }\n\n    .dataframe thead th {\n        text-align: right;\n    }\n</style>\n<table border=\"1\" class=\"dataframe\">\n  <thead>\n    <tr style=\"text-align: right;\">\n      <th></th>\n      <th>Date</th>\n      <th>Country</th>\n      <th>Units</th>\n      <th>Revenue</th>\n    </tr>\n  </thead>\n  <tbody>\n    <tr>\n      <th>0</th>\n      <td>2019-01-08</td>\n      <td>USA</td>\n      <td>343</td>\n      <td>15461.36</td>\n    </tr>\n    <tr>\n      <th>4</th>\n      <td>2019-01-17</td>\n      <td>USA</td>\n      <td>28</td>\n      <td>286.30</td>\n    </tr>\n    <tr>\n      <th>11</th>\n      <td>2019-01-25</td>\n      <td>USA</td>\n      <td>56</td>\n      <td>1650.34</td>\n    </tr>\n    <tr>\n      <th>18</th>\n      <td>2019-01-20</td>\n      <td>USA</td>\n      <td>296</td>\n      <td>391.86</td>\n    </tr>\n    <tr>\n      <th>21</th>\n      <td>2019-01-05</td>\n      <td>USA</td>\n      <td>279</td>\n      <td>12881.19</td>\n    </tr>\n    <tr>\n      <th>...</th>\n      <td>...</td>\n      <td>...</td>\n      <td>...</td>\n      <td>...</td>\n    </tr>\n    <tr>\n      <th>301</th>\n      <td>2019-03-17</td>\n      <td>USA</td>\n      <td>378</td>\n      <td>5687.77</td>\n    </tr>\n    <tr>\n      <th>317</th>\n      <td>2019-03-28</td>\n      <td>USA</td>\n      <td>319</td>\n      <td>10656.61</td>\n    </tr>\n    <tr>\n      <th>318</th>\n      <td>2019-03-08</td>\n      <td>USA</td>\n      <td>155</td>\n      <td>11919.24</td>\n    </tr>\n    <tr>\n      <th>320</th>\n      <td>2019-03-15</td>\n      <td>USA</td>\n      <td>246</td>\n      <td>6002.69</td>\n    </tr>\n    <tr>\n      <th>321</th>\n      <td>2019-03-02</td>\n      <td>USA</td>\n      <td>240</td>\n      <td>3783.21</td>\n    </tr>\n  </tbody>\n</table>\n<p>150 rows × 4 columns</p>\n</div>"
          },
          "metadata": {}
        }
      ]
    },
    {
      "cell_type": "code",
      "source": "#Practica 3 \n#Queremos ver la suma de revenue en panama\n#Queremos ver el promedio de revenue en todos los paises sea mayor de 1000\ncountrypanama = trimestral[\"Country\"]==\"Panama\"\ncountrypanama",
      "metadata": {
        "trusted": true
      },
      "execution_count": 78,
      "outputs": [
        {
          "execution_count": 78,
          "output_type": "execute_result",
          "data": {
            "text/plain": "0      False\n1       True\n2       True\n3      False\n4      False\n       ...  \n320    False\n321    False\n322     True\n323    False\n324     True\nName: Country, Length: 731, dtype: bool"
          },
          "metadata": {}
        }
      ]
    },
    {
      "cell_type": "code",
      "source": "trimestrepanama=trimestral[countrypanama]\ntrimestrepanama[\"Revenue\"].sum()\n\n",
      "metadata": {
        "trusted": true
      },
      "execution_count": 83,
      "outputs": [
        {
          "execution_count": 83,
          "output_type": "execute_result",
          "data": {
            "text/plain": "1061959.71"
          },
          "metadata": {}
        }
      ]
    },
    {
      "cell_type": "code",
      "source": "#promedio\nrevenueremayor1000 = trimestral[\"Revenue\"]>1000\ntimestremayor1000 =trimestral[revenueremayor1000]\ntimestremayor1000[\"Revenue\"].mean()",
      "metadata": {
        "trusted": true
      },
      "execution_count": 84,
      "outputs": [
        {
          "execution_count": 84,
          "output_type": "execute_result",
          "data": {
            "text/plain": "7725.457394822007"
          },
          "metadata": {}
        }
      ]
    },
    {
      "cell_type": "code",
      "source": "countrynobrazil = trimestral[\"Country\"]!=\"Brazil\"\ntimestrenobrazil =trimestral[countrynobrazil]\ntimestrenobrazil[\"Units\"].max()",
      "metadata": {
        "trusted": true
      },
      "execution_count": 85,
      "outputs": [
        {
          "execution_count": 85,
          "output_type": "execute_result",
          "data": {
            "text/plain": "400"
          },
          "metadata": {}
        }
      ]
    },
    {
      "cell_type": "code",
      "source": "#la suma de units de canada + colombia, isin siginifica que esta en la lista siguiente\ntrimestrecancol = trimestral[trimestral.Country.isin([\"Canada\",\"Colombia\"])]\ntrimestrecancol[\"Revenue\"].sum()",
      "metadata": {
        "trusted": true
      },
      "execution_count": 89,
      "outputs": [
        {
          "execution_count": 89,
          "output_type": "execute_result",
          "data": {
            "text/plain": "1856670.3500000003"
          },
          "metadata": {}
        }
      ]
    },
    {
      "cell_type": "code",
      "source": "#Lo contrario que no este en la lista, ver los paises que no sean colombia o canada\n#se hace con la virgulilla ~ alt + ñ en mac en pc altgr+4 dos veces\ntrimestrenocancol = trimestral[~trimestral.Country.isin([\"Canada\",\"Colombia\"])]\ntrimestrenocancol",
      "metadata": {
        "trusted": true
      },
      "execution_count": 90,
      "outputs": [
        {
          "execution_count": 90,
          "output_type": "execute_result",
          "data": {
            "text/plain": "           Date Country  Units   Revenue\n0    2019-01-08     USA    343  15461.36\n1    2019-01-04  Panama     93   4681.26\n2    2019-01-07  Panama     42   2220.36\n3    2019-01-16  Brazil    103   1853.78\n4    2019-01-17     USA     28    286.30\n..          ...     ...    ...       ...\n320  2019-03-15     USA    246   6002.69\n321  2019-03-02     USA    240   3783.21\n322  2019-03-22  Panama    299   3707.41\n323  2019-03-22  Brazil    120    660.37\n324  2019-03-09  Panama    197  10554.67\n\n[449 rows x 4 columns]",
            "text/html": "<div>\n<style scoped>\n    .dataframe tbody tr th:only-of-type {\n        vertical-align: middle;\n    }\n\n    .dataframe tbody tr th {\n        vertical-align: top;\n    }\n\n    .dataframe thead th {\n        text-align: right;\n    }\n</style>\n<table border=\"1\" class=\"dataframe\">\n  <thead>\n    <tr style=\"text-align: right;\">\n      <th></th>\n      <th>Date</th>\n      <th>Country</th>\n      <th>Units</th>\n      <th>Revenue</th>\n    </tr>\n  </thead>\n  <tbody>\n    <tr>\n      <th>0</th>\n      <td>2019-01-08</td>\n      <td>USA</td>\n      <td>343</td>\n      <td>15461.36</td>\n    </tr>\n    <tr>\n      <th>1</th>\n      <td>2019-01-04</td>\n      <td>Panama</td>\n      <td>93</td>\n      <td>4681.26</td>\n    </tr>\n    <tr>\n      <th>2</th>\n      <td>2019-01-07</td>\n      <td>Panama</td>\n      <td>42</td>\n      <td>2220.36</td>\n    </tr>\n    <tr>\n      <th>3</th>\n      <td>2019-01-16</td>\n      <td>Brazil</td>\n      <td>103</td>\n      <td>1853.78</td>\n    </tr>\n    <tr>\n      <th>4</th>\n      <td>2019-01-17</td>\n      <td>USA</td>\n      <td>28</td>\n      <td>286.30</td>\n    </tr>\n    <tr>\n      <th>...</th>\n      <td>...</td>\n      <td>...</td>\n      <td>...</td>\n      <td>...</td>\n    </tr>\n    <tr>\n      <th>320</th>\n      <td>2019-03-15</td>\n      <td>USA</td>\n      <td>246</td>\n      <td>6002.69</td>\n    </tr>\n    <tr>\n      <th>321</th>\n      <td>2019-03-02</td>\n      <td>USA</td>\n      <td>240</td>\n      <td>3783.21</td>\n    </tr>\n    <tr>\n      <th>322</th>\n      <td>2019-03-22</td>\n      <td>Panama</td>\n      <td>299</td>\n      <td>3707.41</td>\n    </tr>\n    <tr>\n      <th>323</th>\n      <td>2019-03-22</td>\n      <td>Brazil</td>\n      <td>120</td>\n      <td>660.37</td>\n    </tr>\n    <tr>\n      <th>324</th>\n      <td>2019-03-09</td>\n      <td>Panama</td>\n      <td>197</td>\n      <td>10554.67</td>\n    </tr>\n  </tbody>\n</table>\n<p>449 rows × 4 columns</p>\n</div>"
          },
          "metadata": {}
        }
      ]
    },
    {
      "cell_type": "code",
      "source": "#practica\n#Vamos a combinar varios filtros, ver los registros de canada mas USA cuyas units 200>\n#con el operador & (Ampersand)hacemos el AND, que se tienen que cumplir las dos condiciones\ntrimestrecanusa = trimestral[(trimestral.Country.isin([\"Canada\",\"USA\"]))\n                             & (trimestral.Units>300)]\ntrimestrecanusa",
      "metadata": {
        "trusted": true
      },
      "execution_count": 99,
      "outputs": [
        {
          "execution_count": 99,
          "output_type": "execute_result",
          "data": {
            "text/plain": "           Date Country  Units   Revenue\n0    2019-01-08     USA    343  15461.36\n5    2019-01-24  Canada    372  24826.98\n23   2019-01-07  Canada    306   4131.21\n37   2019-01-27  Canada    389  10312.46\n39   2019-01-25  Canada    371  20234.08\n..          ...     ...    ...       ...\n270  2019-03-16     USA    361   5685.54\n274  2019-03-07  Canada    378   6530.52\n282  2019-03-24     USA    340   7836.67\n301  2019-03-17     USA    378   5687.77\n317  2019-03-28     USA    319  10656.61\n\n[84 rows x 4 columns]",
            "text/html": "<div>\n<style scoped>\n    .dataframe tbody tr th:only-of-type {\n        vertical-align: middle;\n    }\n\n    .dataframe tbody tr th {\n        vertical-align: top;\n    }\n\n    .dataframe thead th {\n        text-align: right;\n    }\n</style>\n<table border=\"1\" class=\"dataframe\">\n  <thead>\n    <tr style=\"text-align: right;\">\n      <th></th>\n      <th>Date</th>\n      <th>Country</th>\n      <th>Units</th>\n      <th>Revenue</th>\n    </tr>\n  </thead>\n  <tbody>\n    <tr>\n      <th>0</th>\n      <td>2019-01-08</td>\n      <td>USA</td>\n      <td>343</td>\n      <td>15461.36</td>\n    </tr>\n    <tr>\n      <th>5</th>\n      <td>2019-01-24</td>\n      <td>Canada</td>\n      <td>372</td>\n      <td>24826.98</td>\n    </tr>\n    <tr>\n      <th>23</th>\n      <td>2019-01-07</td>\n      <td>Canada</td>\n      <td>306</td>\n      <td>4131.21</td>\n    </tr>\n    <tr>\n      <th>37</th>\n      <td>2019-01-27</td>\n      <td>Canada</td>\n      <td>389</td>\n      <td>10312.46</td>\n    </tr>\n    <tr>\n      <th>39</th>\n      <td>2019-01-25</td>\n      <td>Canada</td>\n      <td>371</td>\n      <td>20234.08</td>\n    </tr>\n    <tr>\n      <th>...</th>\n      <td>...</td>\n      <td>...</td>\n      <td>...</td>\n      <td>...</td>\n    </tr>\n    <tr>\n      <th>270</th>\n      <td>2019-03-16</td>\n      <td>USA</td>\n      <td>361</td>\n      <td>5685.54</td>\n    </tr>\n    <tr>\n      <th>274</th>\n      <td>2019-03-07</td>\n      <td>Canada</td>\n      <td>378</td>\n      <td>6530.52</td>\n    </tr>\n    <tr>\n      <th>282</th>\n      <td>2019-03-24</td>\n      <td>USA</td>\n      <td>340</td>\n      <td>7836.67</td>\n    </tr>\n    <tr>\n      <th>301</th>\n      <td>2019-03-17</td>\n      <td>USA</td>\n      <td>378</td>\n      <td>5687.77</td>\n    </tr>\n    <tr>\n      <th>317</th>\n      <td>2019-03-28</td>\n      <td>USA</td>\n      <td>319</td>\n      <td>10656.61</td>\n    </tr>\n  </tbody>\n</table>\n<p>84 rows × 4 columns</p>\n</div>"
          },
          "metadata": {}
        }
      ]
    },
    {
      "cell_type": "code",
      "source": "",
      "metadata": {},
      "execution_count": null,
      "outputs": []
    }
  ]
}